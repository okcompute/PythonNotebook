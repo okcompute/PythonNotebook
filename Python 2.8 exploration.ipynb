{
 "metadata": {
  "name": "",
  "signature": "sha256:5ed739d736e4357db40d4a20619a3c211afb8aee9ad2fba891131482f944687a"
 },
 "nbformat": 3,
 "nbformat_minor": 0,
 "worksheets": [
  {
   "cells": [
    {
     "cell_type": "markdown",
     "metadata": {},
     "source": [
      "## Fun with eval()\n"
     ]
    },
    {
     "cell_type": "code",
     "collapsed": false,
     "input": [
      "def update(a, b, c):\n",
      "    print a, b, c\n",
      "    return \"le retour\"\n",
      "    \n",
      "test = compile(\"update('allo', 'comment', 'va')\", '<string>', 'eval')\n",
      "\n",
      "eval(test)\n",
      "#exec test"
     ],
     "language": "python",
     "metadata": {},
     "outputs": [
      {
       "output_type": "stream",
       "stream": "stdout",
       "text": [
        "allo comment va\n"
       ]
      },
      {
       "metadata": {},
       "output_type": "pyout",
       "prompt_number": 10,
       "text": [
        "'le retour'"
       ]
      }
     ],
     "prompt_number": 10
    },
    {
     "cell_type": "markdown",
     "metadata": {},
     "source": [
      "## Fun with class decorator"
     ]
    },
    {
     "cell_type": "code",
     "collapsed": false,
     "input": [
      "import functools\n",
      "\n",
      "class MyClassDecorator(object):\n",
      "    \"\"\" I cannot make this decorator to work!\"\"\"\n",
      "    \n",
      "    def __init__(self, cls):\n",
      "        self.cls = cls\n",
      "        super(MyClassDecorator, self).__init__()\n",
      "    \n",
      "    def __call__(self, *args, **kwds):\n",
      "        return self.cls(*args, **kwds)\n",
      "\n",
      "class MyClassDecoratorWithEmptyArgs(object):\n",
      "    \"\"\" This work if called with an empty argument list:\n",
      "    ex: \n",
      "        @MyBetterClassDecorator()\n",
      "    \"\"\"\n",
      "    \n",
      "    def __init__(self):\n",
      "        super(MyClassDecoratorWithEmptyArgs, self).__init__()\n",
      "        \n",
      "    def __call__(self, cls):\n",
      "        return cls\n",
      "    \n",
      " \n",
      "def my_better_class_decorator(cls):\n",
      "    def you_got_decorated(*args, **kwds):\n",
      "        print \"I don't who I am anymore!\"\n",
      "    setattr(cls, \"static_method\", you_got_decorated)\n",
      "    return cls\n",
      "\n",
      "def my_better_class_decorator_with_args(value):\n",
      "    def class_rebuilder(cls):\n",
      "        def you_got_decorated(*args, **kwds):\n",
      "            print \"I think I am %s!\" % value\n",
      "        setattr(cls, \"static_method\", you_got_decorated)\n",
      "        return cls\n",
      "    return class_rebuilder\n",
      "\n",
      "\n",
      "\n",
      "class A(object):\n",
      "    \n",
      "    def __init__(self):\n",
      "        super(A, self).__init__()\n",
      "\n",
      "#@MyClassDecorator\n",
      "#@MyClassDecoratorWithEmptyArgs()\n",
      "@my_better_class_decorator\n",
      "#@my_better_class_decorator_with_args(\"marvelous\")\n",
      "class MyClass(A):\n",
      "    \n",
      "    def __init__(self, value):\n",
      "        self.value = value  # pass a value juste to test it works\n",
      "        super(MyClass, self).__init__()\n",
      "        \n",
      "    def instance_method(self):\n",
      "        print \"instance method called!\"\n",
      "        \n",
      "    @classmethod\n",
      "    def class_method(cls):\n",
      "        print \"class method called!\"\n",
      "    \n",
      "    @staticmethod\n",
      "    def static_method():\n",
      "        print \"static method called!\"\n",
      "        \n",
      "test = MyClass(1)\n",
      "\n",
      "test.instance_method()\n",
      "test.class_method()\n",
      "test.static_method()"
     ],
     "language": "python",
     "metadata": {},
     "outputs": [
      {
       "output_type": "stream",
       "stream": "stdout",
       "text": [
        "instance method called!\n",
        "class method called!\n",
        "I don't who I am anymore!\n"
       ]
      }
     ],
     "prompt_number": 135
    },
    {
     "cell_type": "markdown",
     "metadata": {},
     "source": [
      "## Decorating all class methods with a class decorator"
     ]
    },
    {
     "cell_type": "code",
     "collapsed": false,
     "input": [
      "from inspect import isfunction, ismethod, isclass\n",
      "import time\n",
      "\n",
      "profiling_enabled = True\n",
      "\n",
      "def is_profile_enabled():\n",
      "    return profiling_enabled\n",
      "\n",
      "def profile(cls):\n",
      "\n",
      "    print profiling_enabled\n",
      "    def profile_function(func):\n",
      "        def wrapped(*args, **kwds):\n",
      "            if not profiling_enabled:\n",
      "                print \"No profiling for \" + func.__name__\n",
      "                return func(*args, **kwds)\n",
      "            start = time.time()\n",
      "            result = func(*args, **kwds)\n",
      "            print \"Execution time for %s: %.2f\" % (func.__name__, time.time() - start)\n",
      "            return result\n",
      "        return wrapped\n",
      "\n",
      "    if isclass(cls):\n",
      "        for k, v in cls.__dict__.iteritems():\n",
      "            if isinstance(v, classmethod):\n",
      "               setattr(cls, k, classmethod(profile_function(v.__func__)))\n",
      "            elif isinstance(v, staticmethod):\n",
      "                setattr(cls, k, staticmethod(profile_function(v.__func__)))\n",
      "            elif isfunction(v):\n",
      "                setattr(cls, k, profile_function(v))\n",
      "        return cls\n",
      "    return profile_function(cls)\n",
      "\n",
      "    \n",
      "    \n",
      "    \n",
      "\n",
      "@profile\n",
      "class MyClass(object):\n",
      "    \n",
      "    def __init__(self, value):\n",
      "        self.value = value  # pass a value juste to test it works\n",
      "        super(MyClass, self).__init__()\n",
      "        \n",
      "    def instance_method(self):\n",
      "        time.sleep(0.1)\n",
      "        #print \"instance method called!\"\n",
      "        \n",
      "    @classmethod\n",
      "    def class_method(cls):\n",
      "        time.sleep(0.2)\n",
      "        #print \"class method called!\"\n",
      "    \n",
      "    @staticmethod\n",
      "    def static_method():\n",
      "        time.sleep(0.1)\n",
      "        #print \"static method called!\"\n",
      "\n",
      "@profile\n",
      "def profiled_function(x, y, z):\n",
      "    pass\n",
      "    #print \"I am profiled too! %s %s %s\" % (x, y, z)\n",
      "    \n",
      "test = MyClass(1)\n",
      "print test.value\n",
      "\n",
      "test.instance_method()\n",
      "test.class_method()\n",
      "test.static_method()\n",
      "\n",
      "profiled_function(\"a\", \"b\", \"c\")\n",
      "\n",
      "profiling_enabled = False\n",
      "\n",
      "test.instance_method()\n",
      "test.class_method()\n",
      "test.static_method()\n",
      "\n",
      "profiled_function(\"a\", \"b\", \"c\")"
     ],
     "language": "python",
     "metadata": {},
     "outputs": [
      {
       "output_type": "stream",
       "stream": "stdout",
       "text": [
        "True\n",
        "True\n",
        "Execution time for __init__: 0.00\n",
        "1\n",
        "Execution time for instance_method: 0.10"
       ]
      },
      {
       "output_type": "stream",
       "stream": "stdout",
       "text": [
        "\n",
        "Execution time for class_method: 0.20"
       ]
      },
      {
       "output_type": "stream",
       "stream": "stdout",
       "text": [
        "\n",
        "Execution time for static_method: 0.10"
       ]
      },
      {
       "output_type": "stream",
       "stream": "stdout",
       "text": [
        "\n",
        "Execution time for profiled_function: 0.00\n",
        "No profiling for instance_method\n",
        "No profiling for class_method"
       ]
      },
      {
       "output_type": "stream",
       "stream": "stdout",
       "text": [
        "\n",
        "No profiling for static_method"
       ]
      },
      {
       "output_type": "stream",
       "stream": "stdout",
       "text": [
        "\n",
        "No profiling for profiled_function"
       ]
      },
      {
       "output_type": "stream",
       "stream": "stdout",
       "text": [
        "\n"
       ]
      }
     ],
     "prompt_number": 28
    },
    {
     "cell_type": "code",
     "collapsed": false,
     "input": [],
     "language": "python",
     "metadata": {},
     "outputs": []
    }
   ],
   "metadata": {}
  }
 ]
}