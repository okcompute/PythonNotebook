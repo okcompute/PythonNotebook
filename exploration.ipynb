{
 "metadata": {
  "name": "",
  "signature": "sha256:777fb490a775d7796769a37f20dbe0d4ec04a2cc839316d54e9def01385c3178"
 },
 "nbformat": 3,
 "nbformat_minor": 0,
 "worksheets": [
  {
   "cells": [
    {
     "cell_type": "markdown",
     "metadata": {},
     "source": [
      "## Test python property not accessible from a staticmethod or classmethod\n"
     ]
    },
    {
     "cell_type": "code",
     "collapsed": false,
     "input": [
      "# Test python property not accessible from a staticmethod or classmethod\n",
      "\n",
      "class A(object):\n",
      "    @property\n",
      "    def my_property(self):\n",
      "        return \"bonjour\"\n",
      "\n",
      "\n",
      "class B (A):\n",
      "    @staticmethod\n",
      "    def my_static_method():\n",
      "        return B.my_property.__get__('my_property')\n",
      "\n",
      "    @classmethod\n",
      "    def my_class_method(cls):\n",
      "        # return cls.my_property\n",
      "        return cls.my_property.__get__('my_property')\n",
      "\n",
      "    def my_method(self):\n",
      "        return self.my_property\n",
      "\n",
      "b = B()\n",
      "print b.my_property\n",
      "print b.my_class_method()\n",
      "print b.my_static_method()\n",
      "print b.my_method()\n",
      "\n"
     ],
     "language": "python",
     "metadata": {},
     "outputs": []
    },
    {
     "cell_type": "heading",
     "level": 1,
     "metadata": {},
     "source": [
      "Is a parammeter a reference to the original variable?"
     ]
    },
    {
     "cell_type": "code",
     "collapsed": false,
     "input": [
      "def test_reference_paramter(my_param):\n",
      "    print my_param\n",
      "    my_param = \"blarg\"\n",
      "    print my_param\n",
      "\n",
      "\n",
      "# Test with string\n",
      "test = \"blurg\"\n",
      "print test\n",
      "test_reference_paramter(test)\n",
      "print test\n",
      "\n",
      "\n",
      "# Test with dict (object)\n",
      "test = {\"ping\": \"pong\"}\n",
      "print test\n",
      "test_reference_paramter(test)\n",
      "print test"
     ],
     "language": "python",
     "metadata": {},
     "outputs": [
      {
       "output_type": "stream",
       "stream": "stdout",
       "text": [
        "blurg\n",
        "blurg\n",
        "blarg\n",
        "blurg\n",
        "{'ping': 'pong'}\n",
        "{'ping': 'pong'}\n",
        "blarg\n",
        "{'ping': 'pong'}\n"
       ]
      }
     ],
     "prompt_number": 3
    },
    {
     "cell_type": "heading",
     "level": 1,
     "metadata": {},
     "source": [
      "Let's try to explore generator expresssion and see what we can do with them\n"
     ]
    },
    {
     "cell_type": "code",
     "collapsed": false,
     "input": [
      "generator = (x for x in xrange(10))\n",
      "print generator.next()\n",
      "print generator.next()\n",
      "print generator.next()\n",
      "\n",
      "\n"
     ],
     "language": "python",
     "metadata": {},
     "outputs": [
      {
       "output_type": "stream",
       "stream": "stdout",
       "text": [
        "0\n",
        "1\n",
        "2\n"
       ]
      }
     ],
     "prompt_number": 2
    },
    {
     "cell_type": "heading",
     "level": 1,
     "metadata": {},
     "source": [
      "Bitwise operators tests"
     ]
    },
    {
     "cell_type": "code",
     "collapsed": false,
     "input": [
      "x = 1001\n",
      "print x & 1\n",
      "\n",
      "x = 1002\n",
      "print x & 1\n",
      "\n",
      "x = 1003\n",
      "print x & 1"
     ],
     "language": "python",
     "metadata": {},
     "outputs": [
      {
       "output_type": "stream",
       "stream": "stdout",
       "text": [
        "1\n",
        "0\n",
        "1\n"
       ]
      }
     ],
     "prompt_number": 5
    },
    {
     "cell_type": "heading",
     "level": 1,
     "metadata": {},
     "source": [
      "Remplacer le nom de champs d'un namedtuple\n"
     ]
    },
    {
     "cell_type": "code",
     "collapsed": false,
     "input": [
      "from collections import namedtuple\n",
      "testX = namedtuple('testX', 'fieldA fieldB')\n",
      "testY = namedtuple('testY', 'fieldC fieldD')\n",
      "\n",
      "instance = testX(fieldA='A', fieldB='B')\n",
      "\n",
      "# Here is the magic, use the namedtupe internal method `_make` to create the namedtuple from an iterable!\n",
      "new_instance = testY._make(instance)\n",
      "\n",
      "print new_instance"
     ],
     "language": "python",
     "metadata": {},
     "outputs": [
      {
       "output_type": "stream",
       "stream": "stdout",
       "text": [
        "testY(fieldC='A', fieldD='B')\n"
       ]
      }
     ],
     "prompt_number": 6
    },
    {
     "cell_type": "heading",
     "level": 1,
     "metadata": {},
     "source": [
      "Remplacer le nom d'un champs de namestuple (essai #2)"
     ]
    },
    {
     "cell_type": "code",
     "collapsed": false,
     "input": [
      "from collections import namedtuple\n",
      "testX = namedtuple('testX', 'fieldA fieldB')\n",
      "testY = namedtuple('testY', 'fieldC fieldD')\n",
      "\n",
      "instance = testX(fieldA='A', fieldB='B')\n",
      "print testX\n",
      "testX\n",
      "\n",
      "#instance.fieldC = instance.fieldA\n"
     ],
     "language": "python",
     "metadata": {},
     "outputs": [
      {
       "output_type": "stream",
       "stream": "stdout",
       "text": [
        "<class '__main__.testX'>\n"
       ]
      },
      {
       "metadata": {},
       "output_type": "pyout",
       "prompt_number": 16,
       "text": [
        "__main__.testX"
       ]
      }
     ],
     "prompt_number": 16
    },
    {
     "cell_type": "markdown",
     "metadata": {},
     "source": [
      "## List concatenation"
     ]
    },
    {
     "cell_type": "code",
     "collapsed": false,
     "input": [
      "list1 = ['a', 'b']\n",
      "list2 = ['c', 'd']\n",
      "list3 = list1 + list2\n",
      "print list3"
     ],
     "language": "python",
     "metadata": {},
     "outputs": [
      {
       "output_type": "stream",
       "stream": "stdout",
       "text": [
        "['a', 'b', 'c', 'd']\n"
       ]
      }
     ],
     "prompt_number": 17
    },
    {
     "cell_type": "markdown",
     "metadata": {},
     "source": [
      "## Python dict with keys other then string"
     ]
    },
    {
     "cell_type": "code",
     "collapsed": false,
     "input": [
      "my_dict = {1: 'a', 2: 'b'}\n",
      "print my_dict\n",
      "print my_dict[1]\n",
      "print my_dict[2]"
     ],
     "language": "python",
     "metadata": {},
     "outputs": [
      {
       "output_type": "stream",
       "stream": "stdout",
       "text": [
        "{1: 'a', 2: 'b'}\n",
        "a\n",
        "b\n"
       ]
      }
     ],
     "prompt_number": 20
    },
    {
     "cell_type": "markdown",
     "metadata": {},
     "source": [
      "## Tuple with repeated element"
     ]
    },
    {
     "cell_type": "code",
     "collapsed": false,
     "input": [
      "repeated_list = (\"test\",) * 10\n",
      "print repeated_list"
     ],
     "language": "python",
     "metadata": {},
     "outputs": [
      {
       "output_type": "stream",
       "stream": "stdout",
       "text": [
        "('test', 'test', 'test', 'test', 'test', 'test', 'test', 'test', 'test', 'test')\n"
       ]
      }
     ],
     "prompt_number": 23
    },
    {
     "cell_type": "markdown",
     "metadata": {},
     "source": [
      "## Convert part of a UUID to a integer"
     ]
    },
    {
     "cell_type": "code",
     "collapsed": false,
     "input": [
      "import uuid\n",
      "PLAYER_X = 'deadbeef-0000-0000-0000-000000000012'\n",
      "test = uuid.UUID(PLAYER_X)\n",
      "converted = int(str(test)[-2:])\n",
      "print converted, type(converted)"
     ],
     "language": "python",
     "metadata": {},
     "outputs": [
      {
       "output_type": "stream",
       "stream": "stdout",
       "text": [
        "12 <type 'int'>\n"
       ]
      }
     ],
     "prompt_number": 35
    },
    {
     "cell_type": "markdown",
     "metadata": {},
     "source": [
      "## Create a generator out of a paginated method"
     ]
    },
    {
     "cell_type": "code",
     "collapsed": false,
     "input": [
      "def get_clans(count):\n",
      "    \"\"\" Generator to palliate to lack of APIs in the Clans service for this soft of search. \"\"\"\n",
      "    for start in xrange(0, count, 5):\n",
      "        memberships = range(start, start + 5)\n",
      "        for membership in memberships:\n",
      "            yield membership\n",
      "\n",
      "print get_clans(10)\n",
      "for clan in get_clans(10):\n",
      "    print clan\n"
     ],
     "language": "python",
     "metadata": {},
     "outputs": [
      {
       "output_type": "stream",
       "stream": "stdout",
       "text": [
        "<generator object get_clans at 0x03ABF6C0>\n",
        "0\n",
        "1\n",
        "2\n",
        "3\n",
        "4\n",
        "5\n",
        "6\n",
        "7\n",
        "8\n",
        "9\n"
       ]
      }
     ],
     "prompt_number": 39
    },
    {
     "cell_type": "markdown",
     "metadata": {},
     "source": [
      "+ test\n",
      "+ test2\n",
      "+ test3"
     ]
    },
    {
     "cell_type": "markdown",
     "metadata": {},
     "source": [
      "# Raise text"
     ]
    },
    {
     "cell_type": "code",
     "collapsed": false,
     "input": [
      "raise \"test\""
     ],
     "language": "python",
     "metadata": {},
     "outputs": [
      {
       "ename": "TypeError",
       "evalue": "exceptions must be old-style classes or derived from BaseException, not str",
       "output_type": "pyerr",
       "traceback": [
        "\u001b[1;31m---------------------------------------------------------------------------\u001b[0m\n\u001b[1;31mTypeError\u001b[0m                                 Traceback (most recent call last)",
        "\u001b[1;32m<ipython-input-1-6c30f4cb6630>\u001b[0m in \u001b[0;36m<module>\u001b[1;34m()\u001b[0m\n\u001b[1;32m----> 1\u001b[1;33m \u001b[1;32mraise\u001b[0m \u001b[1;34m\"test\"\u001b[0m\u001b[1;33m\u001b[0m\u001b[0m\n\u001b[0m",
        "\u001b[1;31mTypeError\u001b[0m: exceptions must be old-style classes or derived from BaseException, not str"
       ]
      }
     ],
     "prompt_number": 1
    },
    {
     "cell_type": "markdown",
     "metadata": {},
     "source": [
      "## Test datetime formating"
     ]
    },
    {
     "cell_type": "code",
     "collapsed": false,
     "input": [
      "import datetime\n",
      "str(datetime.datetime.now().strftime(\"%x.%X\"))\n"
     ],
     "language": "python",
     "metadata": {},
     "outputs": [
      {
       "metadata": {},
       "output_type": "pyout",
       "prompt_number": 7,
       "text": [
        "'06/27/14.08:04:37'"
       ]
      }
     ],
     "prompt_number": 7
    },
    {
     "cell_type": "markdown",
     "metadata": {},
     "source": [
      "## Time the allocation and deletion time of a 10 000 000 * 100 bytes of memory"
     ]
    },
    {
     "cell_type": "code",
     "collapsed": false,
     "input": [
      "def allocate_blocks():\n",
      "    return [object() for _ in xrange(100)]\n",
      "    #return 100 *#object()#bytearray(100)\n",
      "\n",
      "def delete_blocks(blocks):\n",
      "    for block in blocks:\n",
      "        del block\n",
      "\n",
      "import gc\n",
      "print gc.get_count()\n",
      "print \"Begin: %d\" % gc.collect()\n",
      "print gc.get_count()\n",
      "blocks = allocate_blocks()\n",
      "print \"Allocated: %d\" % gc.collect()\n",
      "print gc.get_count()\n",
      "delete_blocks(blocks)\n",
      "print \"Deleted: %d\" % gc.collect()\n",
      "print gc.get_count()\n"
     ],
     "language": "python",
     "metadata": {},
     "outputs": [
      {
       "output_type": "stream",
       "stream": "stdout",
       "text": [
        "(151, 0, 0)\n",
        "Begin: 0\n",
        "(13, 0, 0)\n",
        "Allocated: 0\n",
        "(15, 0, 0)\n",
        "Deleted: 0\n",
        "(12, 0, 0)\n"
       ]
      }
     ],
     "prompt_number": 18
    },
    {
     "cell_type": "markdown",
     "metadata": {},
     "source": [
      "## Test splitting a string with many separators"
     ]
    },
    {
     "cell_type": "code",
     "collapsed": false,
     "input": [
      "def splitme(text):\n",
      "    # Remove whitespaces\n",
      "    text = text.replace(\" \", \"\")\n",
      "    import re\n",
      "    return re.split('\\(|\\)|-', text)[:2]\n",
      "\n",
      "test = \"daily  (  09:00)  \"\n",
      "print splitme(test)\n",
      "\n",
      "test = \"daily\"\n",
      "print splitme(test)\n",
      "\n",
      "\n",
      "\n",
      "\n"
     ],
     "language": "python",
     "metadata": {},
     "outputs": [
      {
       "output_type": "stream",
       "stream": "stdout",
       "text": [
        "['daily', '09:00']\n",
        "['daily']\n"
       ]
      }
     ],
     "prompt_number": 97
    },
    {
     "cell_type": "code",
     "collapsed": false,
     "input": [
      "import yaml\n",
      "\n",
      "file = open(\"d:\\\\downloads\\\\time.yml\", 'r').read()\n",
      "\n",
      "print yaml.load(file)\n",
      "\n",
      "\n",
      "\n",
      "import datetime\n",
      "print yaml.dump({'x': datetime.datetime.now()})\n",
      "\n",
      "test = yaml.load(\"14:53:46\")\n",
      "print type(test)\n",
      "print test\n",
      "datetime"
     ],
     "language": "python",
     "metadata": {},
     "outputs": [
      {
       "output_type": "stream",
       "stream": "stdout",
       "text": [
        "{'test': {'periods4': ['daily', 'weekly', 'infinite'], 'periods2': {'infinite': None, 'daily': 32400, 'weekly': 43200}, 'periods': ['daily', 'weekly', 'infinite'], 'periods3': ['daily(9:00:00)', 'weekly(8:00)', 'infinite']}}\n",
        "{x: !!timestamp '2014-07-22 07:28:01.072000'}\n",
        "\n",
        "<type 'int'>\n",
        "53626\n"
       ]
      },
      {
       "metadata": {},
       "output_type": "pyout",
       "prompt_number": 93,
       "text": [
        "<module 'datetime' (built-in)>"
       ]
      }
     ],
     "prompt_number": 93
    },
    {
     "cell_type": "markdown",
     "metadata": {},
     "source": [
      "## Try out enum validation"
     ]
    },
    {
     "cell_type": "code",
     "collapsed": false,
     "input": [
      "class Enum(tuple):\n",
      "    __getattr__ = tuple.index\n",
      "\n",
      "    def as_dict(self):\n",
      "        \"\"\" Convert the Enum to a dict\"\"\"\n",
      "        return dict([(key, getattr(self, key)) for key in self])\n",
      "    \n",
      "    def is_in(self, value):\n",
      "        return 0 < value <= len(self)\n",
      "        \n",
      "    \n",
      "\n",
      "test = Enum(['a', 'b'])\n",
      "\n",
      "'a' in test\n",
      "print test[0]\n",
      "print test[3]\n",
      "\n",
      "test.is_in(8)\n",
      "\n"
     ],
     "language": "python",
     "metadata": {},
     "outputs": [
      {
       "output_type": "stream",
       "stream": "stdout",
       "text": [
        "a\n"
       ]
      },
      {
       "ename": "IndexError",
       "evalue": "tuple index out of range",
       "output_type": "pyerr",
       "traceback": [
        "\u001b[1;31m---------------------------------------------------------------------------\u001b[0m\n\u001b[1;31mIndexError\u001b[0m                                Traceback (most recent call last)",
        "\u001b[1;32m<ipython-input-123-8d9115c6486a>\u001b[0m in \u001b[0;36m<module>\u001b[1;34m()\u001b[0m\n\u001b[0;32m     15\u001b[0m \u001b[1;34m'a'\u001b[0m \u001b[1;32min\u001b[0m \u001b[0mtest\u001b[0m\u001b[1;33m\u001b[0m\u001b[0m\n\u001b[0;32m     16\u001b[0m \u001b[1;32mprint\u001b[0m \u001b[0mtest\u001b[0m\u001b[1;33m[\u001b[0m\u001b[1;36m0\u001b[0m\u001b[1;33m]\u001b[0m\u001b[1;33m\u001b[0m\u001b[0m\n\u001b[1;32m---> 17\u001b[1;33m \u001b[1;32mprint\u001b[0m \u001b[0mtest\u001b[0m\u001b[1;33m[\u001b[0m\u001b[1;36m3\u001b[0m\u001b[1;33m]\u001b[0m\u001b[1;33m\u001b[0m\u001b[0m\n\u001b[0m\u001b[0;32m     18\u001b[0m \u001b[1;33m\u001b[0m\u001b[0m\n\u001b[0;32m     19\u001b[0m \u001b[0mtest\u001b[0m\u001b[1;33m.\u001b[0m\u001b[0mis_in\u001b[0m\u001b[1;33m(\u001b[0m\u001b[1;36m8\u001b[0m\u001b[1;33m)\u001b[0m\u001b[1;33m\u001b[0m\u001b[0m\n",
        "\u001b[1;31mIndexError\u001b[0m: tuple index out of range"
       ]
      }
     ],
     "prompt_number": 123
    },
    {
     "cell_type": "markdown",
     "metadata": {},
     "source": [
      "## Test datetime time constructor with default paremeter"
     ]
    },
    {
     "cell_type": "code",
     "collapsed": false,
     "input": [
      "import datetime\n",
      "print datetime.time()"
     ],
     "language": "python",
     "metadata": {},
     "outputs": [
      {
       "output_type": "stream",
       "stream": "stdout",
       "text": [
        "00:00:00\n"
       ]
      }
     ],
     "prompt_number": 99
    },
    {
     "cell_type": "markdown",
     "metadata": {},
     "source": [
      "## Fun with Colander and deffered"
     ]
    },
    {
     "cell_type": "code",
     "collapsed": false,
     "input": [
      "import datetime\n",
      "import colander\n",
      "#import deform\n",
      "\n",
      "\n",
      "@colander.deferred\n",
      "def deferred_date_missing(node, kw):\n",
      "    default_date = kw.get('default_date')\n",
      "    if default_date is None:\n",
      "        default_date = datetime.date.today()\n",
      "    return default_date\n",
      "\n",
      "class BlogPostSchema(colander.Schema):\n",
      "  \n",
      "    date = colander.SchemaNode(\n",
      "        colander.Date(),\n",
      "        title = 'Date',\n",
      "        missing = deferred_date_missing,\n",
      "        description = deferred_date_description,\n",
      "        validator = deferred_date_validator,\n",
      "        )\n",
      "    \n",
      "class DefaultsSchema(colander.Schema):\n",
      "    default_date = colander.SchemaNode(\n",
      "        colander.Date(),\n",
      "        title = 'Date',\n",
      "        missing = datetime.date.today(),\n",
      "        )\n",
      "\n",
      "config = {'body': 1, 'category': 'one', 'title': 'my title', 'default_date': datetime.datetime(year=2001, month=11, day=3).isoformat()}\n",
      "defaults = DefaultsSchema().deserialize(config)\n",
      "\n",
      "print defaults\n",
      "    \n",
      "schema = BlogPostSchema().bind(\n",
      "    default_date = datetime.date.today(),\n",
      "    )\n",
      "\n",
      "#config = {'body': 1, 'category': 'one', 'title': 'my title'}\n",
      "schema = BlogPostSchema().bind(**defaults)\n",
      "print schema.deserialize(config)\n",
      "#schema.deserialize({'body': 1, 'category': 'one', 'title': 'my title', 'default_date': datetime.datetime(year=2001, month=11, day=1)})\n"
     ],
     "language": "python",
     "metadata": {},
     "outputs": [
      {
       "output_type": "stream",
       "stream": "stdout",
       "text": [
        "{'default_date': datetime.date(2001, 11, 3)}\n",
        "{'date': datetime.date(2001, 11, 3)}\n"
       ]
      }
     ],
     "prompt_number": 122
    },
    {
     "cell_type": "markdown",
     "metadata": {},
     "source": [
      "## Fun with escaping % character in python format"
     ]
    },
    {
     "cell_type": "code",
     "collapsed": false,
     "input": [
      "test = 'I want the modulo to appear in my string %'\n",
      "\n",
      "import re\n",
      "escaped = re.sub(r\"%\", \"\\\\%%\", test)\n",
      "\n",
      "print escaped\n"
     ],
     "language": "python",
     "metadata": {},
     "outputs": [
      {
       "output_type": "stream",
       "stream": "stdout",
       "text": [
        "I want the modulo to appear in my string \\%%\n"
       ]
      }
     ],
     "prompt_number": 9
    },
    {
     "cell_type": "markdown",
     "metadata": {},
     "source": [
      "## Test python list unpacking"
     ]
    },
    {
     "cell_type": "code",
     "collapsed": false,
     "input": [
      "test = ['a', 'b', 'c']\n",
      "# python 3 only: a, *the_rest = test\n",
      "a = test[:1]\n",
      "print a\n",
      "\n",
      "a = test[:1][0]\n",
      "print a\n",
      "\n",
      "the_rest = test[1:]\n",
      "print the_rest"
     ],
     "language": "python",
     "metadata": {},
     "outputs": [
      {
       "output_type": "stream",
       "stream": "stdout",
       "text": [
        "['a']\n",
        "a\n",
        "['b', 'c']\n"
       ]
      }
     ],
     "prompt_number": 9
    },
    {
     "cell_type": "markdown",
     "metadata": {},
     "source": [
      "## Testint the `exec` and `eval` statements"
     ]
    },
    {
     "cell_type": "code",
     "collapsed": false,
     "input": [
      "exec \"x = 10\"\n",
      "print x\n",
      "    \n",
      "print eval('10 + 10')\n",
      "\n",
      "def my_func(arg):\n",
      "    print arg\n",
      "    \n",
      "eval(\"my_func ('allo')\")\n",
      "\n",
      "def test_update():\n",
      "    global z\n",
      "    print z\n",
      "    z = \"I was morphed!\"\n",
      "    print x\n",
      "    return \"this is a return\"\n",
      "    \n",
      "z = \"Hi, my name is z\"\n",
      "x = \"i'm local\"\n",
      "submissions = []\n",
      "exec \"submissions.append(test_update())\" in {'z': z, 'test_update': test_update}, {'x': x , 'submissions': submissions}\n",
      "\n",
      "print z\n",
      "print x\n",
      "print submissions"
     ],
     "language": "python",
     "metadata": {},
     "outputs": [
      {
       "output_type": "stream",
       "stream": "stdout",
       "text": [
        "10\n",
        "20\n",
        "allo\n",
        "Hi, my name is z\n",
        "i'm local\n",
        "I was morphed!\n",
        "i'm local\n",
        "['this is a return']\n"
       ]
      }
     ],
     "prompt_number": 53
    },
    {
     "cell_type": "markdown",
     "metadata": {},
     "source": [
      "## How to print exception message"
     ]
    },
    {
     "cell_type": "code",
     "collapsed": false,
     "input": [
      "my_dict = {}\n",
      "try:\n",
      "   my_dict()\n",
      "except Exception as e:\n",
      "    print dir(e)\n",
      "    print \"Exception message: %s\" % e.message\n",
      "    print \"Exception message: %s\" % str(e)\n",
      "    "
     ],
     "language": "python",
     "metadata": {},
     "outputs": [
      {
       "output_type": "stream",
       "stream": "stdout",
       "text": [
        "['__class__', '__delattr__', '__dict__', '__doc__', '__format__', '__getattribute__', '__getitem__', '__getslice__', '__hash__', '__init__', '__new__', '__reduce__', '__reduce_ex__', '__repr__', '__setattr__', '__setstate__', '__sizeof__', '__str__', '__subclasshook__', '__unicode__', 'args', 'message']\n",
        "Exception message: 'dict' object is not callable\n",
        "Exception message: 'dict' object is not callable\n"
       ]
      }
     ],
     "prompt_number": 20
    },
    {
     "cell_type": "markdown",
     "metadata": {},
     "source": [
      "## Converting UUID to string"
     ]
    },
    {
     "cell_type": "code",
     "collapsed": false,
     "input": [
      "import uuid\n",
      "\n",
      "test = uuid.uuid4()\n",
      "\n",
      "print test"
     ],
     "language": "python",
     "metadata": {},
     "outputs": [
      {
       "output_type": "stream",
       "stream": "stdout",
       "text": [
        "68c1a5d5-dbdb-4421-b7e5-1c1a93f12dcb\n"
       ]
      }
     ],
     "prompt_number": 21
    },
    {
     "cell_type": "markdown",
     "metadata": {},
     "source": [
      "## Try defaultdict with del. Will it raise on unknown item?"
     ]
    },
    {
     "cell_type": "code",
     "collapsed": false,
     "input": [
      "from collections import defaultdict\n",
      "test = defaultdict()\n",
      "try:\n",
      "    del test['a']\n",
      "except KeyError as e:\n",
      "    print e\n",
      "        \n"
     ],
     "language": "python",
     "metadata": {},
     "outputs": [
      {
       "output_type": "stream",
       "stream": "stdout",
       "text": [
        "'a'\n"
       ]
      }
     ],
     "prompt_number": 22
    },
    {
     "cell_type": "markdown",
     "metadata": {},
     "source": [
      "## Decorate a function with wraps without using @decorator syntax"
     ]
    },
    {
     "cell_type": "code",
     "collapsed": false,
     "input": [
      "from functools import wraps\n",
      "\n",
      "def my_function(message):\n",
      "    return message\n",
      "    \n",
      "my_function(\"caca\")\n",
      "\n",
      "def my_wrapper(func, *args, **kwds):\n",
      "    def wrapper(*args):\n",
      "        print \"Je fais \" + func(*args)\n",
      "        return 10\n",
      "    return wrapper\n",
      "        \n",
      "\n",
      "my_function = my_wrapper(my_function)\n",
      "\n",
      "my_function(\"pipi\")\n",
      "print my_function(\"lalala\")"
     ],
     "language": "python",
     "metadata": {},
     "outputs": [
      {
       "output_type": "stream",
       "stream": "stdout",
       "text": [
        "Je fais pipi\n",
        "Je fais lalala\n",
        "10\n"
       ]
      }
     ],
     "prompt_number": 43
    },
    {
     "cell_type": "code",
     "collapsed": false,
     "input": [
      "def function(arg):\n",
      "    pass\n",
      "\n",
      "print function.__dict__.get('_name__')\n",
      "print function.__name__\n"
     ],
     "language": "python",
     "metadata": {},
     "outputs": [
      {
       "output_type": "stream",
       "stream": "stdout",
       "text": [
        "None\n",
        "function\n"
       ]
      }
     ],
     "prompt_number": 47
    },
    {
     "cell_type": "markdown",
     "metadata": {},
     "source": [
      "## Fun with ordereddict"
     ]
    },
    {
     "cell_type": "code",
     "collapsed": false,
     "input": [
      "from collections import OrderedDict\n",
      "from itertools import cycle\n",
      "\n",
      "test_dict = {'a': 1, 'b': 2, 'c': 3}\n",
      "\n",
      "print 'Normal dictionary'\n",
      "print test_dict\n",
      "print test_dict.items()\n",
      "for k, v in test_dict.items():\n",
      "    print k, v\n",
      "\n",
      "test = OrderedDict()\n",
      "for k, v in sorted(test_dict.items()):\n",
      "    test[k] = v\n",
      "    \n",
      "print 'OrderedDict'\n",
      "print test\n",
      "for k, v in test.items():\n",
      "    print k,v\n",
      "    \n",
      "\n",
      "    \n",
      "ids = [3, 2, 6]\n",
      "memberships = OrderedDict(zip(ids, lambda: yield []))\n",
      "print memberships\n",
      "print memberships.items()\n",
      "print dict(memberships)\n",
      "test = memberships[3]\n",
      "print test\n",
      "print type(test)\n",
      "test.append('a')\n",
      "test.append('b')\n",
      "print memberships[3]\n",
      "print memberships\n",
      "memberships[3] = memberships"
     ],
     "language": "python",
     "metadata": {},
     "outputs": [
      {
       "ename": "SyntaxError",
       "evalue": "invalid syntax (<ipython-input-82-c07a0aa4eb10>, line 24)",
       "output_type": "pyerr",
       "traceback": [
        "\u001b[1;36m  File \u001b[1;32m\"<ipython-input-82-c07a0aa4eb10>\"\u001b[1;36m, line \u001b[1;32m24\u001b[0m\n\u001b[1;33m    memberships = OrderedDict(zip(ids, lambda: yield []))\u001b[0m\n\u001b[1;37m                                                   ^\u001b[0m\n\u001b[1;31mSyntaxError\u001b[0m\u001b[1;31m:\u001b[0m invalid syntax\n"
       ]
      }
     ],
     "prompt_number": 82
    },
    {
     "cell_type": "markdown",
     "metadata": {},
     "source": [
      "## fun with lambda"
     ]
    },
    {
     "cell_type": "code",
     "collapsed": false,
     "input": [
      "# no parameter\n",
      "test = lambda: 2\n",
      "print test()\n",
      "# generator\n",
      "def create_list():\n",
      "    for _ in xrange(10):\n",
      "        yield []\n",
      "for i, x in enumerate(create_list()):\n",
      "    x.append(i)\n",
      "    print x\n"
     ],
     "language": "python",
     "metadata": {},
     "outputs": [
      {
       "output_type": "stream",
       "stream": "stdout",
       "text": [
        "2\n",
        "[0]\n",
        "[1]\n",
        "[2]\n",
        "[3]\n",
        "[4]\n",
        "[5]\n",
        "[6]\n",
        "[7]\n",
        "[8]\n",
        "[9]\n"
       ]
      }
     ],
     "prompt_number": 94
    },
    {
     "cell_type": "code",
     "collapsed": false,
     "input": [
      "## Fun with sorted()\n",
      "list1 = [10, 8, 11]\n",
      "list2 = [(8, 'a'), (10, 'b'), (11, 'c')]\n",
      "sorted_list = sorted(list2)\n",
      "print sorted_list\n"
     ],
     "language": "python",
     "metadata": {},
     "outputs": [
      {
       "output_type": "stream",
       "stream": "stdout",
       "text": [
        "[(8, 'a'), (10, 'b'), (11, 'c')]\n"
       ]
      }
     ],
     "prompt_number": 104
    },
    {
     "cell_type": "code",
     "collapsed": false,
     "input": [
      "x = 10234234234234234234\n",
      "type(x)\n",
      "x = 123\n",
      "type(x)\n",
      "\n",
      "if type(x) not in [int, long]:\n",
      "    print \"yeah!\""
     ],
     "language": "python",
     "metadata": {},
     "outputs": [],
     "prompt_number": 4
    },
    {
     "cell_type": "code",
     "collapsed": false,
     "input": [
      "print range(10)"
     ],
     "language": "python",
     "metadata": {},
     "outputs": [
      {
       "output_type": "stream",
       "stream": "stdout",
       "text": [
        "[0, 1, 2, 3, 4, 5, 6, 7, 8, 9]\n"
       ]
      }
     ],
     "prompt_number": 3
    },
    {
     "cell_type": "markdown",
     "metadata": {},
     "source": [
      "## Dict comprehension with enumeration\n"
     ]
    },
    {
     "cell_type": "code",
     "collapsed": false,
     "input": [
      "def create_tags(tag, values):\n",
      "    return {tag + str(i): value for i, value in enumerate(values)}\n",
      "\n",
      "values = ('x', 1, \"titi\", 3,7, \"yep\")\n",
      "tag = \"MyTag\"\n",
      "create_tags(tag, values)"
     ],
     "language": "python",
     "metadata": {},
     "outputs": [
      {
       "metadata": {},
       "output_type": "pyout",
       "prompt_number": 6,
       "text": [
        "{'MyTag0': 'x',\n",
        " 'MyTag1': 1,\n",
        " 'MyTag2': 'titi',\n",
        " 'MyTag3': 3,\n",
        " 'MyTag4': 7,\n",
        " 'MyTag5': 'yep'}"
       ]
      }
     ],
     "prompt_number": 6
    },
    {
     "cell_type": "code",
     "collapsed": false,
     "input": [
      "test = ['a']\n",
      "print(test==[])"
     ],
     "language": "python",
     "metadata": {},
     "outputs": [
      {
       "output_type": "stream",
       "stream": "stdout",
       "text": [
        "False\n"
       ]
      }
     ],
     "prompt_number": 2
    },
    {
     "cell_type": "markdown",
     "metadata": {},
     "source": [
      "## Eval and escape code"
     ]
    },
    {
     "cell_type": "code",
     "collapsed": false,
     "input": [
      "# double quote\n",
      "metadata = u'{\\'message\\': \\'\"\\'}'\n",
      "print eval(metadata)\n",
      "\n",
      "# single quote\n",
      "metadata = u\"{\\\"message\\\": \\\"'\\\"}\"\n",
      "print eval(metadata)\n",
      "\n",
      "# slash\n",
      "metadata = u'{\"message\": \"\\\\\"}'\n",
      "decoded_string = metadata.decode('string_escape') # python2\n",
      "print eval(decoded_string)\n",
      "\n",
      "metadata = u'{\\'message\\': \\'\"\\'}'\n",
      "decoded_string = metadata.decode('string_escape') # python2\n",
      "print eval(decoded_string)\n",
      "#print metadata\n",
      "#print eval(metadata)\n",
      "\n",
      "def test():\n",
      "    raise Exception(\"exploded\")\n",
      "#print eval(\"test()\")\n",
      "\n",
      "\n",
      "#print eval(\"{'x': test()}\")"
     ],
     "language": "python",
     "metadata": {},
     "outputs": [
      {
       "output_type": "stream",
       "stream": "stdout",
       "text": [
        "{'message': '\"'}\n",
        "{'message': \"'\"}\n",
        "{'message': ''}\n",
        "{'message': '\"'}\n"
       ]
      }
     ],
     "prompt_number": 103
    },
    {
     "cell_type": "markdown",
     "metadata": {},
     "source": [
      "## Datetime, UUID and JSON"
     ]
    },
    {
     "cell_type": "code",
     "collapsed": false,
     "input": [
      "from datetime import datetime\n",
      "import uuid\n",
      "test = {'now': datetime.now(),\n",
      "        'you': uuid.uuid4()}\n",
      "\n",
      "import json\n",
      "result = json.dumps(test)\n",
      "print result"
     ],
     "language": "python",
     "metadata": {},
     "outputs": [
      {
       "ename": "TypeError",
       "evalue": "UUID('9d46d6a8-ba3d-42a4-aef6-068cc5298e3d') is not JSON serializable",
       "output_type": "pyerr",
       "traceback": [
        "\u001b[1;31m---------------------------------------------------------------------------\u001b[0m\n\u001b[1;31mTypeError\u001b[0m                                 Traceback (most recent call last)",
        "\u001b[1;32m<ipython-input-106-e4278930c97f>\u001b[0m in \u001b[0;36m<module>\u001b[1;34m()\u001b[0m\n\u001b[0;32m      5\u001b[0m \u001b[1;33m\u001b[0m\u001b[0m\n\u001b[0;32m      6\u001b[0m \u001b[1;32mimport\u001b[0m \u001b[0mjson\u001b[0m\u001b[1;33m\u001b[0m\u001b[0m\n\u001b[1;32m----> 7\u001b[1;33m \u001b[0mresult\u001b[0m \u001b[1;33m=\u001b[0m \u001b[0mjson\u001b[0m\u001b[1;33m.\u001b[0m\u001b[0mdumps\u001b[0m\u001b[1;33m(\u001b[0m\u001b[0mtest\u001b[0m\u001b[1;33m)\u001b[0m\u001b[1;33m\u001b[0m\u001b[0m\n\u001b[0m\u001b[0;32m      8\u001b[0m \u001b[1;32mprint\u001b[0m \u001b[0mresult\u001b[0m\u001b[1;33m\u001b[0m\u001b[0m\n",
        "\u001b[1;32mC:\\Python27\\lib\\json\\__init__.pyc\u001b[0m in \u001b[0;36mdumps\u001b[1;34m(obj, skipkeys, ensure_ascii, check_circular, allow_nan, cls, indent, separators, encoding, default, sort_keys, **kw)\u001b[0m\n\u001b[0;32m    241\u001b[0m         \u001b[0mcls\u001b[0m \u001b[1;32mis\u001b[0m \u001b[0mNone\u001b[0m \u001b[1;32mand\u001b[0m \u001b[0mindent\u001b[0m \u001b[1;32mis\u001b[0m \u001b[0mNone\u001b[0m \u001b[1;32mand\u001b[0m \u001b[0mseparators\u001b[0m \u001b[1;32mis\u001b[0m \u001b[0mNone\u001b[0m \u001b[1;32mand\u001b[0m\u001b[1;33m\u001b[0m\u001b[0m\n\u001b[0;32m    242\u001b[0m         encoding == 'utf-8' and default is None and not sort_keys and not kw):\n\u001b[1;32m--> 243\u001b[1;33m         \u001b[1;32mreturn\u001b[0m \u001b[0m_default_encoder\u001b[0m\u001b[1;33m.\u001b[0m\u001b[0mencode\u001b[0m\u001b[1;33m(\u001b[0m\u001b[0mobj\u001b[0m\u001b[1;33m)\u001b[0m\u001b[1;33m\u001b[0m\u001b[0m\n\u001b[0m\u001b[0;32m    244\u001b[0m     \u001b[1;32mif\u001b[0m \u001b[0mcls\u001b[0m \u001b[1;32mis\u001b[0m \u001b[0mNone\u001b[0m\u001b[1;33m:\u001b[0m\u001b[1;33m\u001b[0m\u001b[0m\n\u001b[0;32m    245\u001b[0m         \u001b[0mcls\u001b[0m \u001b[1;33m=\u001b[0m \u001b[0mJSONEncoder\u001b[0m\u001b[1;33m\u001b[0m\u001b[0m\n",
        "\u001b[1;32mC:\\Python27\\lib\\json\\encoder.pyc\u001b[0m in \u001b[0;36mencode\u001b[1;34m(self, o)\u001b[0m\n\u001b[0;32m    205\u001b[0m         \u001b[1;31m# exceptions aren't as detailed.  The list call should be roughly\u001b[0m\u001b[1;33m\u001b[0m\u001b[1;33m\u001b[0m\u001b[0m\n\u001b[0;32m    206\u001b[0m         \u001b[1;31m# equivalent to the PySequence_Fast that ''.join() would do.\u001b[0m\u001b[1;33m\u001b[0m\u001b[1;33m\u001b[0m\u001b[0m\n\u001b[1;32m--> 207\u001b[1;33m         \u001b[0mchunks\u001b[0m \u001b[1;33m=\u001b[0m \u001b[0mself\u001b[0m\u001b[1;33m.\u001b[0m\u001b[0miterencode\u001b[0m\u001b[1;33m(\u001b[0m\u001b[0mo\u001b[0m\u001b[1;33m,\u001b[0m \u001b[0m_one_shot\u001b[0m\u001b[1;33m=\u001b[0m\u001b[0mTrue\u001b[0m\u001b[1;33m)\u001b[0m\u001b[1;33m\u001b[0m\u001b[0m\n\u001b[0m\u001b[0;32m    208\u001b[0m         \u001b[1;32mif\u001b[0m \u001b[1;32mnot\u001b[0m \u001b[0misinstance\u001b[0m\u001b[1;33m(\u001b[0m\u001b[0mchunks\u001b[0m\u001b[1;33m,\u001b[0m \u001b[1;33m(\u001b[0m\u001b[0mlist\u001b[0m\u001b[1;33m,\u001b[0m \u001b[0mtuple\u001b[0m\u001b[1;33m)\u001b[0m\u001b[1;33m)\u001b[0m\u001b[1;33m:\u001b[0m\u001b[1;33m\u001b[0m\u001b[0m\n\u001b[0;32m    209\u001b[0m             \u001b[0mchunks\u001b[0m \u001b[1;33m=\u001b[0m \u001b[0mlist\u001b[0m\u001b[1;33m(\u001b[0m\u001b[0mchunks\u001b[0m\u001b[1;33m)\u001b[0m\u001b[1;33m\u001b[0m\u001b[0m\n",
        "\u001b[1;32mC:\\Python27\\lib\\json\\encoder.pyc\u001b[0m in \u001b[0;36miterencode\u001b[1;34m(self, o, _one_shot)\u001b[0m\n\u001b[0;32m    268\u001b[0m                 \u001b[0mself\u001b[0m\u001b[1;33m.\u001b[0m\u001b[0mkey_separator\u001b[0m\u001b[1;33m,\u001b[0m \u001b[0mself\u001b[0m\u001b[1;33m.\u001b[0m\u001b[0mitem_separator\u001b[0m\u001b[1;33m,\u001b[0m \u001b[0mself\u001b[0m\u001b[1;33m.\u001b[0m\u001b[0msort_keys\u001b[0m\u001b[1;33m,\u001b[0m\u001b[1;33m\u001b[0m\u001b[0m\n\u001b[0;32m    269\u001b[0m                 self.skipkeys, _one_shot)\n\u001b[1;32m--> 270\u001b[1;33m         \u001b[1;32mreturn\u001b[0m \u001b[0m_iterencode\u001b[0m\u001b[1;33m(\u001b[0m\u001b[0mo\u001b[0m\u001b[1;33m,\u001b[0m \u001b[1;36m0\u001b[0m\u001b[1;33m)\u001b[0m\u001b[1;33m\u001b[0m\u001b[0m\n\u001b[0m\u001b[0;32m    271\u001b[0m \u001b[1;33m\u001b[0m\u001b[0m\n\u001b[0;32m    272\u001b[0m def _make_iterencode(markers, _default, _encoder, _indent, _floatstr,\n",
        "\u001b[1;32mC:\\Python27\\lib\\json\\encoder.pyc\u001b[0m in \u001b[0;36mdefault\u001b[1;34m(self, o)\u001b[0m\n\u001b[0;32m    182\u001b[0m \u001b[1;33m\u001b[0m\u001b[0m\n\u001b[0;32m    183\u001b[0m         \"\"\"\n\u001b[1;32m--> 184\u001b[1;33m         \u001b[1;32mraise\u001b[0m \u001b[0mTypeError\u001b[0m\u001b[1;33m(\u001b[0m\u001b[0mrepr\u001b[0m\u001b[1;33m(\u001b[0m\u001b[0mo\u001b[0m\u001b[1;33m)\u001b[0m \u001b[1;33m+\u001b[0m \u001b[1;34m\" is not JSON serializable\"\u001b[0m\u001b[1;33m)\u001b[0m\u001b[1;33m\u001b[0m\u001b[0m\n\u001b[0m\u001b[0;32m    185\u001b[0m \u001b[1;33m\u001b[0m\u001b[0m\n\u001b[0;32m    186\u001b[0m     \u001b[1;32mdef\u001b[0m \u001b[0mencode\u001b[0m\u001b[1;33m(\u001b[0m\u001b[0mself\u001b[0m\u001b[1;33m,\u001b[0m \u001b[0mo\u001b[0m\u001b[1;33m)\u001b[0m\u001b[1;33m:\u001b[0m\u001b[1;33m\u001b[0m\u001b[0m\n",
        "\u001b[1;31mTypeError\u001b[0m: UUID('9d46d6a8-ba3d-42a4-aef6-068cc5298e3d') is not JSON serializable"
       ]
      }
     ],
     "prompt_number": 106
    },
    {
     "cell_type": "markdown",
     "metadata": {},
     "source": [
      "## datetime, uuid and cPickle"
     ]
    },
    {
     "cell_type": "code",
     "collapsed": false,
     "input": [
      "from datetime import datetime\n",
      "import uuid\n",
      "test = {'now': datetime.now(),\n",
      "        'you': uuid.uuid4()}\n",
      "\n",
      "import cPickle\n",
      "pickled = cPickle.dumps(test)\n",
      "\n",
      "print pickled\n",
      "\n",
      "repred =  repr(test)\n",
      "\n",
      "print repred"
     ],
     "language": "python",
     "metadata": {},
     "outputs": [
      {
       "output_type": "stream",
       "stream": "stdout",
       "text": [
        "(dp1\n",
        "S'you'\n",
        "p2\n",
        "ccopy_reg\n",
        "_reconstructor\n",
        "p3\n",
        "(cuuid\n",
        "UUID\n",
        "p4\n",
        "c__builtin__\n",
        "object\n",
        "p5\n",
        "NtRp6\n",
        "(dp7\n",
        "S'int'\n",
        "p8\n",
        "L177087453681991039400872019608237929483L\n",
        "sbsS'now'\n",
        "p9\n",
        "cdatetime\n",
        "datetime\n",
        "p10\n",
        "(S'\\x07\\xde\\n\\x11\\x07\\x14\\x14\\x01\\xcc\\xf0'\n",
        "tRp11\n",
        "s.\n",
        "{'you': UUID('8539cd90-3cdd-439c-a209-52f1c7d2740b'), 'now': datetime.datetime(2014, 10, 17, 7, 20, 20, 118000)}\n"
       ]
      }
     ],
     "prompt_number": 108
    },
    {
     "cell_type": "code",
     "collapsed": false,
     "input": [
      "x = None\n",
      "x = 'a' if x else x"
     ],
     "language": "python",
     "metadata": {},
     "outputs": [],
     "prompt_number": 110
    },
    {
     "cell_type": "code",
     "collapsed": false,
     "input": [
      "test = repr(\"x = 10\")\n",
      "print eval(test)\n",
      "\n",
      "#test = \"open('x.txt')\"\n",
      "#eval(test)\n",
      "\n"
     ],
     "language": "python",
     "metadata": {},
     "outputs": [
      {
       "output_type": "stream",
       "stream": "stdout",
       "text": [
        "x = 10\n"
       ]
      }
     ],
     "prompt_number": 125
    },
    {
     "cell_type": "markdown",
     "metadata": {},
     "source": [
      "## Fun with kwds"
     ]
    },
    {
     "cell_type": "code",
     "collapsed": false,
     "input": [
      "def my_func(**kwds):\n",
      "    print kwds\n",
      "    \n",
      "my_func(**{'a': 1, 'b': 2})\n",
      "my_func(a=1, b=2)"
     ],
     "language": "python",
     "metadata": {},
     "outputs": [
      {
       "output_type": "stream",
       "stream": "stdout",
       "text": [
        "{'a': 1, 'b': 2}\n",
        "{'a': 1, 'b': 2}\n"
       ]
      }
     ],
     "prompt_number": 4
    },
    {
     "cell_type": "markdown",
     "metadata": {},
     "source": [
      "## Fun with **in** operator"
     ]
    },
    {
     "cell_type": "code",
     "collapsed": false,
     "input": [
      "list_a = ['a', 'b']\n",
      "list_b = ['a', 'b', 'c', 'd']\n",
      "list_a in list_b\n",
      "\n",
      "for elm in list_a:\n",
      "    elm in list_b"
     ],
     "language": "python",
     "metadata": {},
     "outputs": [
      {
       "metadata": {},
       "output_type": "pyout",
       "prompt_number": 1,
       "text": [
        "False"
       ]
      }
     ],
     "prompt_number": 1
    },
    {
     "cell_type": "markdown",
     "metadata": {},
     "source": [
      "## Fun with tuples and dictionaries"
     ]
    },
    {
     "cell_type": "code",
     "collapsed": false,
     "input": [
      "from collections import namedtuple\n",
      "X = namedtuple(\"X_\", ['a', 'b', 'c'])\n",
      "test = X(a=1, b=2, c=3)\n",
      "print dir(test)\n",
      "print test._fields\n",
      "print zip(test)\n",
      "#dict(zip(test))\n",
      "print dict(test._asdict())\n"
     ],
     "language": "python",
     "metadata": {},
     "outputs": [
      {
       "output_type": "stream",
       "stream": "stdout",
       "text": [
        "['__add__', '__class__', '__contains__', '__delattr__', '__dict__', '__doc__', '__eq__', '__format__', '__ge__', '__getattribute__', '__getitem__', '__getnewargs__', '__getslice__', '__getstate__', '__gt__', '__hash__', '__init__', '__iter__', '__le__', '__len__', '__lt__', '__module__', '__mul__', '__ne__', '__new__', '__reduce__', '__reduce_ex__', '__repr__', '__rmul__', '__setattr__', '__sizeof__', '__slots__', '__str__', '__subclasshook__', '_asdict', '_fields', '_make', '_replace', 'a', 'b', 'c', 'count', 'index']\n",
        "('a', 'b', 'c')\n",
        "[(1,), (2,), (3,)]\n",
        "{'a': 1, 'c': 3, 'b': 2}\n"
       ]
      }
     ],
     "prompt_number": 12
    },
    {
     "cell_type": "markdown",
     "metadata": {},
     "source": [
      "## or in a if"
     ]
    },
    {
     "cell_type": "code",
     "collapsed": false,
     "input": [
      "x = 'min'\n",
      "x = 'max'\n",
      "x = 'nono'\n",
      "\n",
      "if x == 'min' or x == 'max':\n",
      "    print \"hello\"\n",
      "else:\n",
      "    print \"nono\"\n",
      "    \n",
      "    "
     ],
     "language": "python",
     "metadata": {},
     "outputs": [
      {
       "output_type": "stream",
       "stream": "stdout",
       "text": [
        "nono\n"
       ]
      }
     ],
     "prompt_number": 6
    },
    {
     "cell_type": "markdown",
     "metadata": {},
     "source": [
      "## Fun with itertools.groupby"
     ]
    },
    {
     "cell_type": "code",
     "collapsed": false,
     "input": [
      "from itertools import groupby\n",
      "\n",
      "my_list = [1,2,3,10,11,21,30]\n",
      "\n",
      "\n",
      "def key(value):\n",
      "    return value%2\n",
      "\n",
      "#groups = groupby(my_list, key)\n",
      "\n",
      "#for key, group in groups:\n",
      "    #print \"This is the key %s and the group: %s\" % (key, str(group))\n",
      "  #  print \"key: %s\" % key\n",
      "    #for result in group:\n",
      "     #   print \"This is a result %s\" % result\n",
      "\n",
      "things = [(\"vehicle\", \"bear\"), (\"animal\", \"duck\"), (\"animal\", \"cactus\"), (\"vehicle\", \"speed boat\"), (\"vehicle\", \"school bus\")]\n",
      "groups = dict(groupby(things, lambda x: x[0]))\n",
      "\n",
      "for key, group in groups.iteritems():\n",
      "    #print \"This is the key %s and the group: %s\" % (key, str(group))\n",
      "    print \"key: %s\" % key\n",
      "    #print \"group: %s\" % str(group)\n",
      "    for result in group:\n",
      "      print result\n"
     ],
     "language": "python",
     "metadata": {},
     "outputs": [
      {
       "output_type": "stream",
       "stream": "stdout",
       "text": [
        "key: animal\n",
        "key: vehicle\n",
        "('vehicle', 'school bus')\n"
       ]
      }
     ],
     "prompt_number": 32
    },
    {
     "cell_type": "markdown",
     "metadata": {},
     "source": [
      "## Fun with for ... in ... or loop"
     ]
    },
    {
     "cell_type": "code",
     "collapsed": false,
     "input": [
      "a = None\n",
      "b = [1 ,2 ,3 ,4]\n",
      "\n",
      "for x in a or b:\n",
      "    print x\n",
      "    \n",
      "a = [10, 11, 13]\n",
      "\n",
      "for x in a or b:\n",
      "    print x"
     ],
     "language": "python",
     "metadata": {},
     "outputs": [
      {
       "output_type": "stream",
       "stream": "stdout",
       "text": [
        "1\n",
        "2\n",
        "3\n",
        "4\n",
        "10\n",
        "11\n",
        "13\n"
       ]
      }
     ],
     "prompt_number": 35
    },
    {
     "cell_type": "code",
     "collapsed": false,
     "input": [
      "from collections import namedtuple\n",
      "\n",
      "Clan = namedtuple('Clan', ('id','name'))\n",
      "\n",
      "class LazyClan(Clan):\n",
      "\n",
      "    def __new__(self, clan=None, clan_id=None, *args, **kwargs):\n",
      "        if clan is not None:\n",
      "            print \"Im returning this %s\" % str(clan)\n",
      "            return clan\n",
      "        return super(LazyClan, self).__new__(self, id=None, name=None)\n",
      "    \n",
      "    def __init__(self, clan=None, clan_id=None, *args, **kwargs):\n",
      "        self.clan_id = clan_id\n",
      "        self.clan = None\n",
      "        super(LazyClan, self).__init__(self, id=None, name=None)\n",
      "\n",
      "    def __getattribute__(self, name):\n",
      "        # no need to fetch, clan_id is available\n",
      "        if name == 'id' and object.__getattribute__(self, 'clan_id') is not None:\n",
      "            return object.__getattribute__(self, 'clan_id') \n",
      "        clan = object.__getattribute__(self, 'clan')\n",
      "        if clan:\n",
      "            return object.__getattribute__(self, name)\n",
      "        else:\n",
      "            self = Clan(2, 'tata')\n",
      "            setattr(self, \"clan_id\", object.__getattribute__(self, 'id'))\n",
      "            self.clan = self\n",
      "            print \"clan created %s\" % str(self)\n",
      "        return object.__getattribute__(self, name)\n",
      "    \n",
      "\n",
      "lazy = LazyClan()\n",
      "print \"No arguments:\"\n",
      "print lazy.id\n",
      "print lazy.name\n",
      "\n",
      "\n",
      "lazy = LazyClan(clan=None, clan_id=3)\n",
      "print \"\\n\\nClan id provided:\"\n",
      "print lazy.id\n",
      "print lazy\n",
      "print lazy.name\n",
      "print lazy\n",
      "\n",
      "clan = Clan(123, \"new clan\")\n",
      "lazy = LazyClan(clan=clan)\n",
      "print lazy==clan\n",
      "print \"\\n\\nFull clan provided:\"\n",
      "print lazy.id\n",
      "print lazy.name\n"
     ],
     "language": "python",
     "metadata": {},
     "outputs": [
      {
       "output_type": "stream",
       "stream": "stdout",
       "text": [
        "No arguments:\n"
       ]
      },
      {
       "ename": "AttributeError",
       "evalue": "'Clan' object has no attribute 'clan_id'",
       "output_type": "pyerr",
       "traceback": [
        "\u001b[1;31m---------------------------------------------------------------------------\u001b[0m\n\u001b[1;31mAttributeError\u001b[0m                            Traceback (most recent call last)",
        "\u001b[1;32m<ipython-input-25-9563e47ee7b8>\u001b[0m in \u001b[0;36m<module>\u001b[1;34m()\u001b[0m\n\u001b[0;32m     33\u001b[0m \u001b[0mlazy\u001b[0m \u001b[1;33m=\u001b[0m \u001b[0mLazyClan\u001b[0m\u001b[1;33m(\u001b[0m\u001b[1;33m)\u001b[0m\u001b[1;33m\u001b[0m\u001b[0m\n\u001b[0;32m     34\u001b[0m \u001b[1;32mprint\u001b[0m \u001b[1;34m\"No arguments:\"\u001b[0m\u001b[1;33m\u001b[0m\u001b[0m\n\u001b[1;32m---> 35\u001b[1;33m \u001b[1;32mprint\u001b[0m \u001b[0mlazy\u001b[0m\u001b[1;33m.\u001b[0m\u001b[0mid\u001b[0m\u001b[1;33m\u001b[0m\u001b[0m\n\u001b[0m\u001b[0;32m     36\u001b[0m \u001b[1;32mprint\u001b[0m \u001b[0mlazy\u001b[0m\u001b[1;33m.\u001b[0m\u001b[0mname\u001b[0m\u001b[1;33m\u001b[0m\u001b[0m\n\u001b[0;32m     37\u001b[0m \u001b[1;33m\u001b[0m\u001b[0m\n",
        "\u001b[1;32m<ipython-input-25-9563e47ee7b8>\u001b[0m in \u001b[0;36m__getattribute__\u001b[1;34m(self, name)\u001b[0m\n\u001b[0;32m     25\u001b[0m         \u001b[1;32melse\u001b[0m\u001b[1;33m:\u001b[0m\u001b[1;33m\u001b[0m\u001b[0m\n\u001b[0;32m     26\u001b[0m             \u001b[0mself\u001b[0m \u001b[1;33m=\u001b[0m \u001b[0mClan\u001b[0m\u001b[1;33m(\u001b[0m\u001b[1;36m2\u001b[0m\u001b[1;33m,\u001b[0m \u001b[1;34m'tata'\u001b[0m\u001b[1;33m)\u001b[0m\u001b[1;33m\u001b[0m\u001b[0m\n\u001b[1;32m---> 27\u001b[1;33m             \u001b[0msetattr\u001b[0m\u001b[1;33m(\u001b[0m\u001b[0mself\u001b[0m\u001b[1;33m,\u001b[0m \u001b[1;34m\"clan_id\"\u001b[0m\u001b[1;33m,\u001b[0m \u001b[0mobject\u001b[0m\u001b[1;33m.\u001b[0m\u001b[0m__getattribute__\u001b[0m\u001b[1;33m(\u001b[0m\u001b[0mself\u001b[0m\u001b[1;33m,\u001b[0m \u001b[1;34m'id'\u001b[0m\u001b[1;33m)\u001b[0m\u001b[1;33m)\u001b[0m\u001b[1;33m\u001b[0m\u001b[0m\n\u001b[0m\u001b[0;32m     28\u001b[0m             \u001b[0mself\u001b[0m\u001b[1;33m.\u001b[0m\u001b[0mclan\u001b[0m \u001b[1;33m=\u001b[0m \u001b[0mself\u001b[0m\u001b[1;33m\u001b[0m\u001b[0m\n\u001b[0;32m     29\u001b[0m             \u001b[1;32mprint\u001b[0m \u001b[1;34m\"clan created %s\"\u001b[0m \u001b[1;33m%\u001b[0m \u001b[0mstr\u001b[0m\u001b[1;33m(\u001b[0m\u001b[0mself\u001b[0m\u001b[1;33m)\u001b[0m\u001b[1;33m\u001b[0m\u001b[0m\n",
        "\u001b[1;31mAttributeError\u001b[0m: 'Clan' object has no attribute 'clan_id'"
       ]
      }
     ],
     "prompt_number": 25
    },
    {
     "cell_type": "markdown",
     "metadata": {},
     "source": [
      "## Keyword arguments"
     ]
    },
    {
     "cell_type": "code",
     "collapsed": false,
     "input": [
      "def test(arg1, **kwds):\n",
      "    print arg1, kwds\n",
      "    \n",
      "def test2(arg1, **kwds):\n",
      "    # Note: need to use unpack operator again!\n",
      "    return test(arg1, **kwds)\n",
      "\n",
      "test2('hello', x = 1)"
     ],
     "language": "python",
     "metadata": {},
     "outputs": [
      {
       "output_type": "stream",
       "stream": "stdout",
       "text": [
        "hello {'x': 1}\n"
       ]
      }
     ],
     "prompt_number": 11
    },
    {
     "cell_type": "code",
     "collapsed": false,
     "input": [
      "\":\".join(['adafdsaf', \"\"])"
     ],
     "language": "python",
     "metadata": {},
     "outputs": [
      {
       "metadata": {},
       "output_type": "pyout",
       "prompt_number": 3,
       "text": [
        "'adafdsaf:'"
       ]
      }
     ],
     "prompt_number": 3
    },
    {
     "cell_type": "code",
     "collapsed": false,
     "input": [
      "x = 2**30\n",
      "print x\n",
      "print type(x)\n",
      "\n",
      "x = 2**31\n",
      "print x\n",
      "print type(x)\n",
      "\n",
      "y = -2**64\n",
      "print y\n",
      "print type(y)\n",
      "\n",
      "\n",
      "y = 2**128\n",
      "print y\n",
      "print type(y)\n"
     ],
     "language": "python",
     "metadata": {},
     "outputs": [
      {
       "output_type": "stream",
       "stream": "stdout",
       "text": [
        "1073741824\n",
        "<type 'int'>\n",
        "2147483648\n",
        "<type 'long'>\n",
        "-18446744073709551616\n",
        "<type 'long'>\n",
        "340282366920938463463374607431768211456\n",
        "<type 'long'>\n"
       ]
      }
     ],
     "prompt_number": 17
    },
    {
     "cell_type": "markdown",
     "metadata": {},
     "source": [
      "## Fun with time.time"
     ]
    },
    {
     "cell_type": "code",
     "collapsed": false,
     "input": [
      "import time\n",
      "\n",
      "now = time.time()\n",
      "\n",
      "time.sleep(1)\n",
      "\n",
      "print time.time() - now\n",
      "time.sleep(0.5)\n",
      "print time.time() - now"
     ],
     "language": "python",
     "metadata": {},
     "outputs": [
      {
       "output_type": "stream",
       "stream": "stdout",
       "text": [
        "1.0\n",
        "1.5"
       ]
      },
      {
       "output_type": "stream",
       "stream": "stdout",
       "text": [
        "\n"
       ]
      }
     ],
     "prompt_number": 5
    },
    {
     "cell_type": "markdown",
     "metadata": {},
     "source": [
      "## Fun with inspect"
     ]
    },
    {
     "cell_type": "code",
     "collapsed": false,
     "input": [
      "from inspect import (\n",
      "    ismethod,\n",
      "    isfunction,\n",
      ")\n",
      "\n",
      "from functools import wraps\n",
      "\n",
      "def profile_duration(name):\n",
      "    def decorator(func):\n",
      "        #@wraps(func)\n",
      "        def wrapper(*args, **kwargs):\n",
      "            print \"xxxxxxxxx\" * 100\n",
      "            result = func(*args, **kwargs)\n",
      "            return result\n",
      "        return wrapper\n",
      "    return decorator\n",
      "\n",
      "\n",
      "class MyMeta(type):\n",
      "    \n",
      "    def __new__(cls, name, bases, dict):\n",
      "        for k, v in dict.iteritems():\n",
      "            print \"\"\n",
      "            print k, v\n",
      "            print \"is function:\" + k, isfunction(v)\n",
      "            print \"is method:\" + k, ismethod(v)\n",
      "            print \"is class method:\" + k, isinstance(v, classmethod)\n",
      "            print \"is static method:\" + k, isinstance(v, staticmethod)\n",
      "            if (\n",
      "                #isfunction(v) or\n",
      "                isinstance(v, classmethod) or\n",
      "                isinstance(v, staticmethod)\n",
      "                ):\n",
      "                print \"Decoration function \", v\n",
      "                dict[k] = profile_duration(k)(v)\n",
      "        return type.__new__(cls, name, bases, dict)\n",
      "\n",
      "    def __getattr__(cls, name):\n",
      "        print cls, name\n",
      "        return super(MyMeta).__getattr__(cls, name)\n",
      "\n",
      "\n",
      "\n",
      "class MyClass(object):\n",
      "    __metaclass__ = MyMeta\n",
      "    \n",
      "    @classmethod\n",
      "    def cls_method(cls):\n",
      "        print \"cls_method was called\"\n",
      "            \n",
      "    @staticmethod\n",
      "    def static_method():\n",
      "        print \"static_method was called\"\n",
      "        \n",
      "    def instance_method(self):\n",
      "        print \"instance_method was called\"\n",
      "    \n",
      "print MyClass.cls_method\n",
      "print ismethod(MyClass.cls_method)\n",
      "print MyClass.static_method\n",
      "print ismethod(MyClass.static_method)\n",
      "print MyClass.instance_method\n",
      "print ismethod(MyClass.instance_method)\n",
      "test = MyClass()\n",
      "test.instance_method()\n",
      "test.cls_method()\n",
      "test.statici_method()\n"
     ],
     "language": "python",
     "metadata": {},
     "outputs": [
      {
       "output_type": "stream",
       "stream": "stdout",
       "text": [
        "\n",
        "instance_method <function instance_method at 0x03B1A1F0>\n",
        "is function:instance_method True\n",
        "is method:instance_method False\n",
        "is class method:instance_method False\n",
        "is static method:instance_method False\n",
        "Decoration function  <function instance_method at 0x03B1A1F0>\n",
        "\n",
        "__module__ __main__\n",
        "is function:__module__ False\n",
        "is method:__module__ False\n",
        "is class method:__module__ False\n",
        "is static method:__module__ False\n",
        "\n",
        "static_method <staticmethod object at 0x03B7A130>\n",
        "is function:static_method False\n",
        "is method:static_method False\n",
        "is class method:static_method False\n",
        "is static method:static_method True\n",
        "Decoration function  <staticmethod object at 0x03B7A130>\n",
        "\n",
        "__metaclass__ <class '__main__.MyMeta'>\n",
        "is function:__metaclass__ False\n",
        "is method:__metaclass__ False\n",
        "is class method:__metaclass__ False\n",
        "is static method:__metaclass__ False\n",
        "\n",
        "cls_method <classmethod object at 0x03B1DE70>\n",
        "is function:cls_method False\n",
        "is method:cls_method False\n",
        "is class method:cls_method True\n",
        "is static method:cls_method False\n",
        "Decoration function  <classmethod object at 0x03B1DE70>\n",
        "<unbound method MyClass.wrapper>\n",
        "True\n",
        "<unbound method MyClass.wrapper>\n",
        "True\n",
        "<unbound method MyClass.wrapper>\n",
        "True\n",
        "xxxxxxxxxxxxxxxxxxxxxxxxxxxxxxxxxxxxxxxxxxxxxxxxxxxxxxxxxxxxxxxxxxxxxxxxxxxxxxxxxxxxxxxxxxxxxxxxxxxxxxxxxxxxxxxxxxxxxxxxxxxxxxxxxxxxxxxxxxxxxxxxxxxxxxxxxxxxxxxxxxxxxxxxxxxxxxxxxxxxxxxxxxxxxxxxxxxxxxxxxxxxxxxxxxxxxxxxxxxxxxxxxxxxxxxxxxxxxxxxxxxxxxxxxxxxxxxxxxxxxxxxxxxxxxxxxxxxxxxxxxxxxxxxxxxxxxxxxxxxxxxxxxxxxxxxxxxxxxxxxxxxxxxxxxxxxxxxxxxxxxxxxxxxxxxxxxxxxxxxxxxxxxxxxxxxxxxxxxxxxxxxxxxxxxxxxxxxxxxxxxxxxxxxxxxxxxxxxxxxxxxxxxxxxxxxxxxxxxxxxxxxxxxxxxxxxxxxxxxxxxxxxxxxxxxxxxxxxxxxxxxxxxxxxxxxxxxxxxxxxxxxxxxxxxxxxxxxxxxxxxxxxxxxxxxxxxxxxxxxxxxxxxxxxxxxxxxxxxxxxxxxxxxxxxxxxxxxxxxxxxxxxxxxxxxxxxxxxxxxxxxxxxxxxxxxxxxxxxxxxxxxxxxxxxxxxxxxxxxxxxxxxxxxxxxxxxxxxxxxxxxxxxxxxxxxxxxxxxxxxxxxxxxxxxxxxxxxxxxxxxxxxxxxxxxxxxxxxxxxxxxxxxxxxxxxxxxxxxxxxxxxxxxxxxxxxxxxxxxxxxxxxxxxxxxxxxxxxxxxxxxxxxxxxxxxxxxxxxxxxxxxxxxxxxxxxxxxxxxxxxxxxxxxxxxxxxxxxxxxxxxxxxxxxxxxxxxxxxxxxxxxxxxxxxxxxxxxxxxxxxxxxxxxxxxxxxxxxxxx\n",
        "instance_method was called\n",
        "xxxxxxxxxxxxxxxxxxxxxxxxxxxxxxxxxxxxxxxxxxxxxxxxxxxxxxxxxxxxxxxxxxxxxxxxxxxxxxxxxxxxxxxxxxxxxxxxxxxxxxxxxxxxxxxxxxxxxxxxxxxxxxxxxxxxxxxxxxxxxxxxxxxxxxxxxxxxxxxxxxxxxxxxxxxxxxxxxxxxxxxxxxxxxxxxxxxxxxxxxxxxxxxxxxxxxxxxxxxxxxxxxxxxxxxxxxxxxxxxxxxxxxxxxxxxxxxxxxxxxxxxxxxxxxxxxxxxxxxxxxxxxxxxxxxxxxxxxxxxxxxxxxxxxxxxxxxxxxxxxxxxxxxxxxxxxxxxxxxxxxxxxxxxxxxxxxxxxxxxxxxxxxxxxxxxxxxxxxxxxxxxxxxxxxxxxxxxxxxxxxxxxxxxxxxxxxxxxxxxxxxxxxxxxxxxxxxxxxxxxxxxxxxxxxxxxxxxxxxxxxxxxxxxxxxxxxxxxxxxxxxxxxxxxxxxxxxxxxxxxxxxxxxxxxxxxxxxxxxxxxxxxxxxxxxxxxxxxxxxxxxxxxxxxxxxxxxxxxxxxxxxxxxxxxxxxxxxxxxxxxxxxxxxxxxxxxxxxxxxxxxxxxxxxxxxxxxxxxxxxxxxxxxxxxxxxxxxxxxxxxxxxxxxxxxxxxxxxxxxxxxxxxxxxxxxxxxxxxxxxxxxxxxxxxxxxxxxxxxxxxxxxxxxxxxxxxxxxxxxxxxxxxxxxxxxxxxxxxxxxxxxxxxxxxxxxxxxxxxxxxxxxxxxxxxxxxxxxxxxxxxxxxxxxxxxxxxxxxxxxxxxxxxxxxxxxxxxxxxxxxxxxxxxxxxxxxxxxxxxxxxxxxxxxxxxxxxxxxxxxxxxxxxxxxxxxxxxxxxxxxxxxxxxxxxxxxxxxxxx\n"
       ]
      },
      {
       "ename": "TypeError",
       "evalue": "'classmethod' object is not callable",
       "output_type": "pyerr",
       "traceback": [
        "\u001b[1;31m---------------------------------------------------------------------------\u001b[0m\n\u001b[1;31mTypeError\u001b[0m                                 Traceback (most recent call last)",
        "\u001b[1;32m<ipython-input-47-c37755eb8d95>\u001b[0m in \u001b[0;36m<module>\u001b[1;34m()\u001b[0m\n\u001b[0;32m     64\u001b[0m \u001b[0mtest\u001b[0m \u001b[1;33m=\u001b[0m \u001b[0mMyClass\u001b[0m\u001b[1;33m(\u001b[0m\u001b[1;33m)\u001b[0m\u001b[1;33m\u001b[0m\u001b[0m\n\u001b[0;32m     65\u001b[0m \u001b[0mtest\u001b[0m\u001b[1;33m.\u001b[0m\u001b[0minstance_method\u001b[0m\u001b[1;33m(\u001b[0m\u001b[1;33m)\u001b[0m\u001b[1;33m\u001b[0m\u001b[0m\n\u001b[1;32m---> 66\u001b[1;33m \u001b[0mtest\u001b[0m\u001b[1;33m.\u001b[0m\u001b[0mcls_method\u001b[0m\u001b[1;33m(\u001b[0m\u001b[1;33m)\u001b[0m\u001b[1;33m\u001b[0m\u001b[0m\n\u001b[0m\u001b[0;32m     67\u001b[0m \u001b[0mtest\u001b[0m\u001b[1;33m.\u001b[0m\u001b[0mstatici_method\u001b[0m\u001b[1;33m(\u001b[0m\u001b[1;33m)\u001b[0m\u001b[1;33m\u001b[0m\u001b[0m\n",
        "\u001b[1;32m<ipython-input-47-c37755eb8d95>\u001b[0m in \u001b[0;36mwrapper\u001b[1;34m(*args, **kwargs)\u001b[0m\n\u001b[0;32m     11\u001b[0m         \u001b[1;32mdef\u001b[0m \u001b[0mwrapper\u001b[0m\u001b[1;33m(\u001b[0m\u001b[1;33m*\u001b[0m\u001b[0margs\u001b[0m\u001b[1;33m,\u001b[0m \u001b[1;33m**\u001b[0m\u001b[0mkwargs\u001b[0m\u001b[1;33m)\u001b[0m\u001b[1;33m:\u001b[0m\u001b[1;33m\u001b[0m\u001b[0m\n\u001b[0;32m     12\u001b[0m             \u001b[1;32mprint\u001b[0m \u001b[1;34m\"xxxxxxxxx\"\u001b[0m \u001b[1;33m*\u001b[0m \u001b[1;36m100\u001b[0m\u001b[1;33m\u001b[0m\u001b[0m\n\u001b[1;32m---> 13\u001b[1;33m             \u001b[0mresult\u001b[0m \u001b[1;33m=\u001b[0m \u001b[0mfunc\u001b[0m\u001b[1;33m(\u001b[0m\u001b[1;33m*\u001b[0m\u001b[0margs\u001b[0m\u001b[1;33m,\u001b[0m \u001b[1;33m**\u001b[0m\u001b[0mkwargs\u001b[0m\u001b[1;33m)\u001b[0m\u001b[1;33m\u001b[0m\u001b[0m\n\u001b[0m\u001b[0;32m     14\u001b[0m             \u001b[1;32mreturn\u001b[0m \u001b[0mresult\u001b[0m\u001b[1;33m\u001b[0m\u001b[0m\n\u001b[0;32m     15\u001b[0m         \u001b[1;32mreturn\u001b[0m \u001b[0mwrapper\u001b[0m\u001b[1;33m\u001b[0m\u001b[0m\n",
        "\u001b[1;31mTypeError\u001b[0m: 'classmethod' object is not callable"
       ]
      }
     ],
     "prompt_number": 47
    },
    {
     "cell_type": "markdown",
     "metadata": {},
     "source": [
      "## Fun with class decorator on class"
     ]
    },
    {
     "cell_type": "code",
     "collapsed": false,
     "input": [
      "class MyClassDecorator(object):\n",
      "    def __init__(self, cls):\n",
      "        self.cls = cls\n",
      "    \n",
      "    def __call__(self, *args, **kwds):\n",
      "        print self\n",
      "        print self.cls\n",
      "        print args\n",
      "        print kwds\n",
      "        return self.cls(*args, **kwds)\n",
      "\n",
      "def my_deco():\n",
      "    # define the decorator function that acts on the actual class definition\n",
      "    def decorator(*args, **kwds):\n",
      "\n",
      "        # do something here with the information\n",
      "        #print name, cls\n",
      "        print cls, args, kwds\n",
      "\n",
      "        #setattr(cls, name, 'Hello world!')\n",
      "\n",
      "        # return the original, augmented class\n",
      "        return cls #(*args, **kwds)\n",
      "\n",
      "    # return the decorator to act on the class definition\n",
      "    return decorator\n",
      "    \n",
      "class A(object):\n",
      "    pass\n",
      "\n",
      "    \n",
      "@MyClassDecorator\n",
      "#@my_deco(\"test\")\n",
      "#@my_deco\n",
      "class MyClass(A):\n",
      "    \n",
      "    def __init__(self):\n",
      "        super(MyClass, self).__init__()\n",
      "    \n",
      "    def instance_method(self):\n",
      "        print \"instance method called!\"\n",
      "        \n",
      "    @classmethod\n",
      "    def class_method(cls):\n",
      "        print \"class method called!\"\n",
      "        \n",
      "    @staticmethod\n",
      "    def static_method():\n",
      "        print \"static method called!\"\n",
      "\n",
      "test = MyClass()\n",
      "print test\n",
      "test.instance_method()\n",
      "test.class_method()\n",
      "test.static_method()\n",
      "\n",
      "    \n",
      "    "
     ],
     "language": "python",
     "metadata": {},
     "outputs": [
      {
       "output_type": "stream",
       "stream": "stdout",
       "text": [
        "<__main__.MyClassDecorator object at 0x03B08C70>\n",
        "<class '__main__.MyClass'>\n",
        "()\n",
        "{}\n"
       ]
      },
      {
       "ename": "TypeError",
       "evalue": "must be type, not MyClassDecorator",
       "output_type": "pyerr",
       "traceback": [
        "\u001b[1;31m---------------------------------------------------------------------------\u001b[0m\n\u001b[1;31mTypeError\u001b[0m                                 Traceback (most recent call last)",
        "\u001b[1;32m<ipython-input-113-eba11aacdcfa>\u001b[0m in \u001b[0;36m<module>\u001b[1;34m()\u001b[0m\n\u001b[0;32m     49\u001b[0m         \u001b[1;32mprint\u001b[0m \u001b[1;34m\"static method called!\"\u001b[0m\u001b[1;33m\u001b[0m\u001b[0m\n\u001b[0;32m     50\u001b[0m \u001b[1;33m\u001b[0m\u001b[0m\n\u001b[1;32m---> 51\u001b[1;33m \u001b[0mtest\u001b[0m \u001b[1;33m=\u001b[0m \u001b[0mMyClass\u001b[0m\u001b[1;33m(\u001b[0m\u001b[1;33m)\u001b[0m\u001b[1;33m\u001b[0m\u001b[0m\n\u001b[0m\u001b[0;32m     52\u001b[0m \u001b[1;32mprint\u001b[0m \u001b[0mtest\u001b[0m\u001b[1;33m\u001b[0m\u001b[0m\n\u001b[0;32m     53\u001b[0m \u001b[0mtest\u001b[0m\u001b[1;33m.\u001b[0m\u001b[0minstance_method\u001b[0m\u001b[1;33m(\u001b[0m\u001b[1;33m)\u001b[0m\u001b[1;33m\u001b[0m\u001b[0m\n",
        "\u001b[1;32m<ipython-input-113-eba11aacdcfa>\u001b[0m in \u001b[0;36m__call__\u001b[1;34m(self, *args, **kwds)\u001b[0m\n\u001b[0;32m      8\u001b[0m         \u001b[1;32mprint\u001b[0m \u001b[0margs\u001b[0m\u001b[1;33m\u001b[0m\u001b[0m\n\u001b[0;32m      9\u001b[0m         \u001b[1;32mprint\u001b[0m \u001b[0mkwds\u001b[0m\u001b[1;33m\u001b[0m\u001b[0m\n\u001b[1;32m---> 10\u001b[1;33m         \u001b[1;32mreturn\u001b[0m \u001b[0mself\u001b[0m\u001b[1;33m.\u001b[0m\u001b[0mcls\u001b[0m\u001b[1;33m(\u001b[0m\u001b[1;33m*\u001b[0m\u001b[0margs\u001b[0m\u001b[1;33m,\u001b[0m \u001b[1;33m**\u001b[0m\u001b[0mkwds\u001b[0m\u001b[1;33m)\u001b[0m\u001b[1;33m\u001b[0m\u001b[0m\n\u001b[0m\u001b[0;32m     11\u001b[0m \u001b[1;33m\u001b[0m\u001b[0m\n\u001b[0;32m     12\u001b[0m \u001b[1;32mdef\u001b[0m \u001b[0mmy_deco\u001b[0m\u001b[1;33m(\u001b[0m\u001b[1;33m)\u001b[0m\u001b[1;33m:\u001b[0m\u001b[1;33m\u001b[0m\u001b[0m\n",
        "\u001b[1;32m<ipython-input-113-eba11aacdcfa>\u001b[0m in \u001b[0;36m__init__\u001b[1;34m(self)\u001b[0m\n\u001b[0;32m     36\u001b[0m \u001b[1;33m\u001b[0m\u001b[0m\n\u001b[0;32m     37\u001b[0m     \u001b[1;32mdef\u001b[0m \u001b[0m__init__\u001b[0m\u001b[1;33m(\u001b[0m\u001b[0mself\u001b[0m\u001b[1;33m)\u001b[0m\u001b[1;33m:\u001b[0m\u001b[1;33m\u001b[0m\u001b[0m\n\u001b[1;32m---> 38\u001b[1;33m         \u001b[0msuper\u001b[0m\u001b[1;33m(\u001b[0m\u001b[0mMyClass\u001b[0m\u001b[1;33m,\u001b[0m \u001b[0mself\u001b[0m\u001b[1;33m)\u001b[0m\u001b[1;33m.\u001b[0m\u001b[0m__init__\u001b[0m\u001b[1;33m(\u001b[0m\u001b[1;33m)\u001b[0m\u001b[1;33m\u001b[0m\u001b[0m\n\u001b[0m\u001b[0;32m     39\u001b[0m \u001b[1;33m\u001b[0m\u001b[0m\n\u001b[0;32m     40\u001b[0m     \u001b[1;32mdef\u001b[0m \u001b[0minstance_method\u001b[0m\u001b[1;33m(\u001b[0m\u001b[0mself\u001b[0m\u001b[1;33m)\u001b[0m\u001b[1;33m:\u001b[0m\u001b[1;33m\u001b[0m\u001b[0m\n",
        "\u001b[1;31mTypeError\u001b[0m: must be type, not MyClassDecorator"
       ]
      }
     ],
     "prompt_number": 113
    },
    {
     "cell_type": "code",
     "collapsed": false,
     "input": [],
     "language": "python",
     "metadata": {},
     "outputs": []
    }
   ],
   "metadata": {}
  }
 ]
}