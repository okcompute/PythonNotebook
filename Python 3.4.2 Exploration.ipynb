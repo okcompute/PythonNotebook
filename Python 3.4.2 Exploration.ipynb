{
 "metadata": {
  "name": "",
  "signature": "sha256:0129eca4480764432504a5fd89d5ecd345090cfe0a00f03bad53224eabdcd813"
 },
 "nbformat": 3,
 "nbformat_minor": 0,
 "worksheets": [
  {
   "cells": [
    {
     "cell_type": "markdown",
     "metadata": {},
     "source": [
      "## Fun with generators"
     ]
    },
    {
     "cell_type": "code",
     "collapsed": false,
     "input": [],
     "language": "python",
     "metadata": {},
     "outputs": []
    },
    {
     "cell_type": "code",
     "collapsed": false,
     "input": [
      "# Simple genrator replicating range\n",
      "def my_range(n):\n",
      "    x = 0\n",
      "    while x < n:\n",
      "        yield x\n",
      "        x += 1\n",
      "\n",
      "print(\"'5' first reulsts of my_range\")\n",
      "for x in my_range(5):\n",
      "    print(x)\n",
      "\n",
      "# Try out generator expression\n",
      "gen_exp = (x for x in range(5))\n",
      "\n",
      "print(\"Results for generator expression try out\")\n",
      "for x in gen_exp:\n",
      "    print(x)\n",
      "\n",
      "# A generator function instance can remember its internal scope\n",
      "print(\"Trying using the generator function instance directly with next\")\n",
      "gen = my_range(20)\n",
      "print(next(gen))\n",
      "print(next(gen))\n",
      "print(next(gen))\n"
     ],
     "language": "python",
     "metadata": {},
     "outputs": [
      {
       "output_type": "stream",
       "stream": "stdout",
       "text": [
        "'5' first reulsts of my_range\n",
        "0\n",
        "1\n",
        "2\n",
        "3\n",
        "4\n",
        "Results for generator expression try out\n",
        "0\n",
        "1\n",
        "2\n",
        "3\n",
        "4\n",
        "Trying using the generator function instance directly with next\n",
        "0\n",
        "1\n",
        "2\n"
       ]
      }
     ],
     "prompt_number": 10
    },
    {
     "cell_type": "code",
     "collapsed": false,
     "input": [],
     "language": "python",
     "metadata": {},
     "outputs": []
    },
    {
     "cell_type": "markdown",
     "metadata": {},
     "source": [
      "## Fun with callable"
     ]
    },
    {
     "cell_type": "code",
     "collapsed": false,
     "input": [
      "class my_callable_class(object):\n",
      "    def __call__(self):\n",
      "        print(\"yeah!\")\n",
      "\n",
      "    def __init__(self):\n",
      "        print(\"callable created\")\n",
      "\n",
      "\n",
      "class my_non_callable_class(object):\n",
      "#    def __call__(self):\n",
      "#        print(\"yeah!\")\n",
      "    def __init__(self):\n",
      "        print(\"non callable created\")\n",
      "\n",
      "\n",
      "obj = my_callable_class()\n",
      "obj()\n",
      "\n",
      "obj = my_non_callable_class()\n",
      "try:\n",
      "    obj()\n",
      "except TypeError:\n",
      "    print(\"snif snif I can't be called\")\n",
      "    \n",
      "    \n",
      "def my_function():\n",
      "    print(\"my function called\")\n",
      "    \n",
      "my_function()\n",
      "\n",
      "print(my_function.__call__)\n",
      "print(dir(my_function))\n",
      "my_function.__call__ = lambda: print(\"haha fooled you!\")\n",
      "my_function()"
     ],
     "language": "python",
     "metadata": {},
     "outputs": [
      {
       "output_type": "stream",
       "stream": "stdout",
       "text": [
        "callable created\n",
        "yeah!\n",
        "non callable created\n",
        "snif snif I can't be called\n",
        "my function called\n",
        "<method-wrapper '__call__' of function object at 0x1072bfc80>\n",
        "['__annotations__', '__call__', '__class__', '__closure__', '__code__', '__defaults__', '__delattr__', '__dict__', '__dir__', '__doc__', '__eq__', '__format__', '__ge__', '__get__', '__getattribute__', '__globals__', '__gt__', '__hash__', '__init__', '__kwdefaults__', '__le__', '__lt__', '__module__', '__name__', '__ne__', '__new__', '__qualname__', '__reduce__', '__reduce_ex__', '__repr__', '__setattr__', '__sizeof__', '__str__', '__subclasshook__']\n",
        "my function called\n"
       ]
      }
     ],
     "prompt_number": 26
    },
    {
     "cell_type": "markdown",
     "metadata": {},
     "source": [
      "## Fun with metaclass"
     ]
    },
    {
     "cell_type": "code",
     "collapsed": false,
     "input": [
      "class Meta(type):\n",
      "    def __prepare__(name, bases, **kwds):\n",
      "        print(\"A class {} is being created\".format(name))\n",
      "        return {}\n",
      "    \n",
      "    def __new__(cls, name, bases, namespace, **kwds):\n",
      "        result = type.__new__(cls, name, bases, dict(namespace))\n",
      "        result.members = tuple(namespace)\n",
      "        return result\n",
      "\n",
      "class MyClass(metaclass=Meta):\n",
      "    def pipi():\n",
      "        pass\n",
      "\n",
      "class MySubclass(MyClass):\n",
      "    def caca():\n",
      "        pass\n",
      "\n",
      "c = MyClass()\n",
      "print(c.members)\n",
      "sc = MySubclass()\n",
      "print(sc.members)"
     ],
     "language": "python",
     "metadata": {},
     "outputs": [
      {
       "output_type": "stream",
       "stream": "stdout",
       "text": [
        "A class MyClass is being created\n",
        "A class MySubclass is being created\n",
        "('__module__', 'pipi', '__qualname__')\n",
        "('__module__', 'caca', '__qualname__')\n"
       ]
      }
     ],
     "prompt_number": 17
    },
    {
     "cell_type": "markdown",
     "metadata": {},
     "source": [
      "## Fun with metaclass #2\n"
     ]
    },
    {
     "cell_type": "code",
     "collapsed": false,
     "input": [
      "class Meta(type):\n",
      "\n",
      "    def decorator_function(self, fn):\n",
      "        def wrapper(*args, **kwargs):\n",
      "            print(\"Im decorated!!\")\n",
      "            return fn(*args, **kwargs)\n",
      "        return wrapper\n",
      "\n",
      "    def __new__(metaclass, name, bases, namespace, **kwds):\n",
      "       result = super().__new__(metaclass, name, bases, namespace, **kwds)\n",
      "       #print(result.__dict__)\n",
      "       return result\n",
      "    \n",
      "    def __init__(self, name, bases, namespace, **kwds):\n",
      "        print(\"Name is {}, bases are {}, namepsace is {} and kwds are {}\".format(name, bases, namespace, kwds))\n",
      "        super(Meta, self).__init__(name, bases, namespace, **kwds)\n",
      "\n",
      "        print(self)\n",
      "\n",
      "        for name, method in namespace.items():\n",
      "            print(name)\n",
      "            if name in ['post', 'get', 'put', 'delete']:\n",
      "                setattr(self, name, self.decorator_function(getattr(self, name)))\n",
      "\n",
      "\n",
      "       #print(\"This is the instance created {}\".format(instance))\n",
      "\n",
      "    def decorate(self):\n",
      "        pass\n",
      "\n",
      "class A(object):\n",
      "   pass\n",
      "\n",
      "class B(A, metaclass=Meta):\n",
      "    def delete(self):\n",
      "        print(\"delete() got called!\")\n",
      "\n",
      "    \n",
      "class  C(B):\n",
      "    def get(self):\n",
      "        print(\"get() got called!\")\n",
      "\n",
      "    def post(self):\n",
      "        pass\n",
      "\n",
      "    def blarg(self):\n",
      "        pass\n",
      "\n",
      "b = B()\n",
      "\n",
      "b.delete()\n",
      "\n",
      "c = C()\n",
      "\n",
      "c.get()\n",
      "c.delete()\n",
      "c.blarg()"
     ],
     "language": "python",
     "metadata": {},
     "outputs": [
      {
       "output_type": "stream",
       "stream": "stdout",
       "text": [
        "Name is B, bases are (<class '__main__.A'>,), namepsace is {'__qualname__': 'B', 'delete': <function B.delete at 0x10e31b378>, '__module__': '__main__'} and kwds are {}\n",
        "<class '__main__.B'>\n",
        "__qualname__\n",
        "delete\n",
        "__module__\n",
        "Name is C, bases are (<class '__main__.B'>,), namepsace is {'__qualname__': 'C', 'get': <function C.get at 0x10e31b268>, 'post': <function C.post at 0x10e31b1e0>, '__module__': '__main__', 'blarg': <function C.blarg at 0x10e31b158>} and kwds are {}\n",
        "<class '__main__.C'>\n",
        "__qualname__\n",
        "get\n",
        "post\n",
        "__module__\n",
        "blarg\n",
        "Im decorated!!\n",
        "delete() got called!\n",
        "Im decorated!!\n",
        "get() got called!\n",
        "Im decorated!!\n",
        "delete() got called!\n"
       ]
      }
     ],
     "prompt_number": 32
    },
    {
     "cell_type": "markdown",
     "metadata": {},
     "source": [
      "## Fun with class decorator"
     ]
    },
    {
     "cell_type": "code",
     "collapsed": false,
     "input": [
      "class MyDecorator(object):\n",
      "    def __call__(self, klass):\n",
      "        for name, method in klass.__dict__.items():\n",
      "            if name in ['post', 'get', 'put', 'delete']:\n",
      "                setattr(klass, name, self.decorator_function(method))\n",
      "        return klass\n",
      "    \n",
      "    def decorator_function(self, fn):\n",
      "        def wrapper(*args, **kwargs):\n",
      "            print(\"{} is called !!\".format(fn))\n",
      "            return fn(*args, **kwargs)\n",
      "        return wrapper\n",
      "\n",
      "@MyDecorator()\n",
      "class X(object):\n",
      "    def get(self):\n",
      "        print(\"get() method called\")\n",
      "        \n",
      "    def post(self):\n",
      "        print(\"post() method called\")\n",
      "        \n",
      "    def util(self):\n",
      "        print(\"util() method called\")\n",
      "        \n",
      "x = X()\n",
      "\n",
      "x.get()\n",
      "x.post()\n",
      "x.util()\n",
      "        "
     ],
     "language": "python",
     "metadata": {},
     "outputs": [
      {
       "output_type": "stream",
       "stream": "stdout",
       "text": [
        "<function X.get at 0x10e2d3f28> is called !!\n",
        "get() method called\n",
        "<function X.post at 0x10e2d3bf8> is called !!\n",
        "post() method called\n",
        "util() method called\n"
       ]
      }
     ],
     "prompt_number": 28
    },
    {
     "cell_type": "markdown",
     "metadata": {},
     "source": [
      "## A more complex generator"
     ]
    },
    {
     "cell_type": "code",
     "collapsed": false,
     "input": [
      "my_dict = {'a': { 'b': 2, 'c': 3}, 'd': {'e': 4}, 'f': 5}\n",
      "\n",
      "def flatten_document(document):\n",
      "    \"\"\" Convert a mongo document and its subdocuments hiearchy into a one-level document. All document leaves nodes are concated together. \"\"\"\n",
      "    def flatten_leaves(root):\n",
      "        \"\"\" Generator function flattening all dictonary leaves nodes to one string. \n",
      "        :returns: A tuple where the first element is the flattened keys and the second element is the leave end value.\n",
      "        \"\"\"\n",
      "        for key, value in root.items():\n",
      "            if isinstance(value, dict):\n",
      "                for sub_key, sub_value in flatten_leaves(value):\n",
      "                    yield \":\".join([key, sub_key]), sub_value\n",
      "            else:\n",
      "                yield key, value\n",
      "    return dict(flatten_leaves(document))\n",
      "\n",
      "flatten_document(my_dict)"
     ],
     "language": "python",
     "metadata": {},
     "outputs": [
      {
       "metadata": {},
       "output_type": "pyout",
       "prompt_number": 100,
       "text": [
        "{'a:c': 3, 'f': 5, 'a:b': 2, 'd:e': 4}"
       ]
      }
     ],
     "prompt_number": 100
    },
    {
     "cell_type": "code",
     "collapsed": false,
     "input": [],
     "language": "python",
     "metadata": {},
     "outputs": [],
     "prompt_number": 63
    },
    {
     "cell_type": "markdown",
     "metadata": {},
     "source": [
      "## Fun with \\__getattribute\\__"
     ]
    },
    {
     "cell_type": "code",
     "collapsed": false,
     "input": [
      "from collections import namedtuple\n",
      "\n",
      "Clan = namedtuple(\"Clan\", ('id', 'name', 'country'))\n",
      "\n",
      "class LazyClan(Clan):\n",
      "    \n",
      "    def __new__(cls, id, clan=None, *args, **kwargs):\n",
      "        if clan:\n",
      "            # No need for a proxy, just use the `Clan` instance itself\n",
      "            return clan\n",
      "        return super(LazyClan, cls).__new__(cls, id, name=None, country=None, *args, **kwargs)\n",
      "    \n",
      "    def __getattribute__(self, name):\n",
      "        try:\n",
      "            #Get proxied object. \n",
      "            clan = object.__getattribute__(self, \"clan\")\n",
      "        except AttributeError:\n",
      "            # Object not available, fetch it (simulate with creating a a new Clan)\n",
      "            clan = Clan(id=123, name='The buzz', country='canada')\n",
      "            if not clan:\n",
      "                # We may have concurrency issue.\n",
      "                return None\n",
      "            self.clan = clan\n",
      "        return object.__getattribute__(clan, name)\n",
      "\n",
      "clan1 = LazyClan(id=1)\n",
      "print(clan1.id)\n",
      "print(clan1.name)\n",
      "print(clan1.country)\n"
     ],
     "language": "python",
     "metadata": {},
     "outputs": [
      {
       "output_type": "stream",
       "stream": "stdout",
       "text": [
        "123\n",
        "The buzz\n",
        "canada\n"
       ]
      }
     ],
     "prompt_number": 89
    },
    {
     "cell_type": "markdown",
     "metadata": {},
     "source": [
      "## Fun with cookies"
     ]
    },
    {
     "cell_type": "code",
     "collapsed": false,
     "input": [
      "from http.cookies import SimpleCookie\n",
      "cookie = SimpleCookie()\n",
      "cookie.load('_xsrf=2|be215796|1e00e7427a87bdd0c8ead3ba49867ad9|1430424396; Path=/,user=; expires=Wed, 30 Apr 2014 20:06:36 GMT; Path=/')\n",
      "print(cookie)\n",
      "print(cookie['_xsrf'])\n",
      "cookie2 = SimpleCookie()\n",
      "cookie2.load('user=; expires=Wed, 30 Apr 2014 20:16:03 GMT; Path=/,_xsrf=2|33ea9c7c|cbe2b87de1e2f8dabd0a1371b7991f43|1430424963; Path=/')\n",
      "print(80*\"*\")\n",
      "print(cookie2)\n",
      "print(\"-\")\n",
      "print(cookie2['user'])\n",
      "#print(cookie2['_xsrf'])"
     ],
     "language": "python",
     "metadata": {},
     "outputs": [
      {
       "output_type": "stream",
       "stream": "stdout",
       "text": [
        "Set-Cookie: _xsrf=2|be215796|1e00e7427a87bdd0c8ead3ba49867ad9|1430424396; expires=Wed, 30 Apr 2014 20:06:36 GMT; Path=/\n",
        "Set-Cookie: _xsrf=2|be215796|1e00e7427a87bdd0c8ead3ba49867ad9|1430424396; expires=Wed, 30 Apr 2014 20:06:36 GMT; Path=/\n",
        "********************************************************************************\n",
        "Set-Cookie: user=; expires=Wed, 30 Apr 2014 20:16:03 GMT; Path=/\n",
        "-\n",
        "Set-Cookie: user=; expires=Wed, 30 Apr 2014 20:16:03 GMT; Path=/\n"
       ]
      }
     ],
     "prompt_number": 20
    },
    {
     "cell_type": "code",
     "collapsed": false,
     "input": [],
     "language": "python",
     "metadata": {},
     "outputs": []
    }
   ],
   "metadata": {}
  }
 ]
}